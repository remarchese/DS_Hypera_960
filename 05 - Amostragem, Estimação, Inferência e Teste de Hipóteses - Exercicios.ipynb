{
 "cells": [
  {
   "cell_type": "markdown",
   "id": "948dcd6e",
   "metadata": {},
   "source": [
    "# 05 - Amostragem, Estimação, Inferência e Teste de Hipóteses\n",
    "\n",
    "Nessa aula, iremos tratar dos seguintes conteúdos:\n",
    "- Noções sobre Amostragem\n",
    "- Terminologia\n",
    "- Tipos de amostragem\n",
    "- Métodos de Amostragem\n",
    "- Tamanho amostral\n",
    "- Níveis de confiança e significância\n",
    "- Erro Inferencial e Intervalo de Confiança\n",
    "- Cálculo do Tamanho Amostral\n",
    "- Teste de Hipóteses\n",
    "- Valor p\n",
    "- Comparação entre duas médias"
   ]
  },
  {
   "cell_type": "markdown",
   "id": "4d4c932a",
   "metadata": {},
   "source": [
    "## "
   ]
  },
  {
   "cell_type": "code",
   "execution_count": 1,
   "id": "f1e64f5e",
   "metadata": {},
   "outputs": [],
   "source": [
    "import pandas as pd\n",
    "import numpy as np\n",
    "import matplotlib.pyplot as plt\n",
    "import seaborn as sns\n",
    "\n",
    "# função para calcular a probabilidade a partir do Z Score\n",
    "import scipy.stats as st"
   ]
  },
  {
   "cell_type": "markdown",
   "id": "f6a55c4b",
   "metadata": {},
   "source": [
    "## Exercícios"
   ]
  },
  {
   "cell_type": "markdown",
   "id": "b9aa4641",
   "metadata": {},
   "source": [
    "__1)__ Suponha que os pesos das sacas de soja de uma indústria alimentícia se distribuem aproximadamente como uma normal de desvio padrão populacional igual a 570 g. Selecionada uma amostra aleatória de 25 sacas de um lote específico, obteve-se um peso médio de 27.215 g. Construa um intervalo de confiança para a **média populacional** assumindo um **nível de significância de 10%**."
   ]
  },
  {
   "cell_type": "code",
   "execution_count": 2,
   "id": "309a01de",
   "metadata": {},
   "outputs": [
    {
     "name": "stdout",
     "output_type": "stream",
     "text": [
      "Z-score:  1.6449\n",
      "Erro inferencial:  187.5133\n",
      "Intervalo de confiança pela fórmula:  (27027.486686527533, 27402.513313472467)\n",
      "Intervalo de confiança usando o SciPy:  (27027.486686527533, 27402.513313472467)\n"
     ]
    }
   ],
   "source": [
    "# Carregando as funções para distribuição normal do SciPy\n",
    "from scipy.stats import norm\n",
    "\n",
    "# Parametros\n",
    "X = 27215              # media amostral\n",
    "desvpad = 570         # desvio padrão populacional\n",
    "alpha = 0.10          # nivel de significancia\n",
    "conf = 1 - alpha      # nivel de confiança\n",
    "n = 25                # tamanho da amostra\n",
    "\n",
    "# Calculando a probabilidade\n",
    "prob = conf + (alpha / 2)\n",
    "\n",
    "# Calculando o Z-score para a probabilidade\n",
    "z = norm.ppf(prob)\n",
    "print(\"Z-score: \", np.round(z, 4))\n",
    "\n",
    "# Definindo o erro inferencial\n",
    "e = (z * desvpad) / np.sqrt(n)\n",
    "print(\"Erro inferencial: \", np.round(e,4))\n",
    "\n",
    "\n",
    "# Definindo o intervalo de confiança de duas formas\n",
    "print(\"Intervalo de confiança pela fórmula: \", (X - e, X + e))\n",
    "print(\"Intervalo de confiança usando o SciPy: \", norm.interval(conf, loc = X, scale = desvpad / np.sqrt(n)))"
   ]
  },
  {
   "cell_type": "markdown",
   "id": "e8f95c1f",
   "metadata": {},
   "source": [
    "__2)__ Um estudo a respeito do rendimento mensal dos chefes de domicílios no Brasil, determinou que o __erro máximo em relação a média seja de R$\\$$ 370,00__. Sabendo que o desvio padrão populacional deste grupo de trabalhadores é de **R$\\$$ 2.516,28**. Para um __nível de confiança de 99%__, qual deve ser o tamanho da amostra de nosso estudo?"
   ]
  },
  {
   "cell_type": "code",
   "execution_count": 3,
   "id": "7682812a",
   "metadata": {},
   "outputs": [
    {
     "name": "stdout",
     "output_type": "stream",
     "text": [
      "Tamanho da amostra será:  307.0\n"
     ]
    }
   ],
   "source": [
    "# parametros\n",
    "desvpad = 2516.28 #desvio padrão\n",
    "e = 370      #erro inferencial\n",
    "conf = 0.99        # nivel de confiança\n",
    "alpha = 1- conf    # nivel de significancia\n",
    "\n",
    "# Calculando o Z-Score\n",
    "z = norm.ppf(conf + (alpha / 2))\n",
    "\n",
    "# Determinando o tamanho da amostra\n",
    "n = ((z * desvpad) / e)**2\n",
    "\n",
    "# Valor da amostra\n",
    "print(\"Tamanho da amostra será: \", np.round(n, 0))"
   ]
  },
  {
   "cell_type": "markdown",
   "id": "45b69a93",
   "metadata": {},
   "source": [
    "__3)__ Um fabricante de lajotas de cerâmica introduz um novo material em sua fabricação e acredita que aumentará a resistência média, que é de 206 kg. A resistência das lajotas tem distribuição normal com desvio padrão de 12 kg. Retira-se uma amostra de 30 lajotas, obtendo $\\overline{X}_{obs}$ = 210 kg. Ao nível de 10%, pode o fabricante aceitar que a resistência média de suas lajotas tenha aumentado?"
   ]
  },
  {
   "cell_type": "markdown",
   "id": "e033afd8",
   "metadata": {},
   "source": [
    "$H_0: \\mu = 206 $<br>\n",
    "$H_1: \\mu > 206 $"
   ]
  },
  {
   "cell_type": "markdown",
   "id": "4beee423",
   "metadata": {},
   "source": [
    "### Resolução:"
   ]
  },
  {
   "cell_type": "markdown",
   "id": "252030a4",
   "metadata": {},
   "source": [
    "Vamos calcular o valor crítico para o teste e assim conseguir saber se aceitamos ou rejeitamos $H_{0}$:"
   ]
  },
  {
   "cell_type": "markdown",
   "id": "ec2f9449",
   "metadata": {},
   "source": [
    "$$ P\\left(Z <\\frac{\\overline{X}_{c} - \\mu}{\\frac{\\sigma}{\\sqrt{n}}} | \\mu =206 \\right) = 1 - \\alpha =  0.9 $$"
   ]
  },
  {
   "cell_type": "code",
   "execution_count": 4,
   "id": "544e2f99",
   "metadata": {},
   "outputs": [
    {
     "name": "stdout",
     "output_type": "stream",
     "text": [
      "Z Score para 90%:  1.2815515655446004\n",
      "Valor crítico:  208.80773880421935  kg\n",
      "Valor médio observado:  210  kg\n",
      "Teste de Hipótese: \n",
      "Rejeitamos H0\n"
     ]
    }
   ],
   "source": [
    "# Calculo da Z score\n",
    "z = st.norm.ppf(0.9)\n",
    "print(\"Z Score para 90%: \", z)\n",
    "\n",
    "# Parametros\n",
    "mu = 206\n",
    "sigma = 12\n",
    "n = 30\n",
    "\n",
    "# Valor critico\n",
    "Xc = mu + (sigma/np.sqrt(n))*z\n",
    "print(\"Valor crítico: \", Xc, \" kg\")\n",
    "\n",
    "# Valor observado\n",
    "Xobs = 210\n",
    "print(\"Valor médio observado: \", Xobs, \" kg\")\n",
    "\n",
    "# teste de Hipotese\n",
    "print(\"Teste de Hipótese: \")\n",
    "if(Xobs < Xc):\n",
    "    print(\"Aceitamos H0\")\n",
    "else:\n",
    "    print(\"Rejeitamos H0\")"
   ]
  },
  {
   "cell_type": "markdown",
   "id": "0b270298",
   "metadata": {},
   "source": [
    "__4)__ Uma fábrica de automóveis anuncia que seus carros consomem, em média, 11 litros por 100 km, com desvio padrão de 0,8 litro por 100 km. Uma revista decide testar essa afirmação e analisa 35 carros dessa marca, obtendo 11,4 litros por 100 km, como consumo médio. Admitindo que o consumo tenha distribuição normal, ao nível de 5%, o que a revista concluirá sobre o anúncio da fábrica?"
   ]
  },
  {
   "cell_type": "markdown",
   "id": "74b40af6",
   "metadata": {},
   "source": [
    "$H_0: \\mu = 11$<br>\n",
    "$H_1: \\mu \\neq 11$"
   ]
  },
  {
   "cell_type": "markdown",
   "id": "53881e83",
   "metadata": {},
   "source": [
    "### Resolução:"
   ]
  },
  {
   "cell_type": "markdown",
   "id": "891dd9ae",
   "metadata": {},
   "source": [
    "Precisamos primeiramente definir a região crítica para o teste de hipótese:"
   ]
  },
  {
   "cell_type": "markdown",
   "id": "9b8be315",
   "metadata": {},
   "source": [
    "$\\alpha$ = P(rejeitar $H_{0}$ | $H_{0}$ é verdadeira) = 0.05, ou seja:\n",
    "\n",
    "$$ P\\left(\\overline{X} < \\overline{X}_{c1} \\cup \\overline{X} > \\overline{X}_{c2} | \\mu = 11 \\right) = 0.05 $$\n",
    "\n",
    "<br>\n",
    "\n",
    "Para o caso do teste bicaudal, temos que a probabilidade para cada um dos casos será igual a $\\alpha/2$:\n",
    "\n",
    "$$ P\\left(\\overline{X} < \\overline{X}_{c1} | \\mu = 11 \\right) = 0.025 $$\n",
    "\n",
    "$$ P\\left(\\overline{X} > \\overline{X}_{c2} | \\mu = 11 \\right) = 0.025 $$\n",
    "\n",
    "<br>\n",
    "\n",
    "Por fim ajustando a probabilidade para o caso crítico 2:\n",
    "\n",
    "$$ P\\left(\\overline{X} < \\overline{X}_{c1} | \\mu = 11 \\right) = 0.025 $$\n",
    "\n",
    "$$ P\\left(\\overline{X} < \\overline{X}_{c2} | \\mu = 11 \\right) = 0.975 $$\n"
   ]
  },
  {
   "cell_type": "code",
   "execution_count": 5,
   "id": "ab541766",
   "metadata": {},
   "outputs": [
    {
     "name": "stdout",
     "output_type": "stream",
     "text": [
      "Caso crítico 1\n",
      "Z Score caso crítico 1:  -1.9599639845400545\n",
      "Valor crítico 1:  10.734964495896211  litros por 100 km\n",
      "==================================================\n",
      "Caso crítico 2\n",
      "Z Score caso crítico 2:  1.959963984540054\n",
      "Valor crítico 2:  11.265035504103789  litros por 100 km\n",
      "==================================================\n",
      "Valor médio observado:  11.4  litros por 100 km\n",
      "Teste de Hipótese: \n",
      "Rejeitamos H0\n"
     ]
    }
   ],
   "source": [
    "# Define o alpha\n",
    "alpha = 0.05\n",
    "\n",
    "#Caso critico 1\n",
    "print(\"Caso crítico 1\")\n",
    "\n",
    "# Z Score caso 1\n",
    "z1 = st.norm.ppf(alpha/2)\n",
    "print(\"Z Score caso crítico 1: \", z1)\n",
    "\n",
    "# Parametros\n",
    "mu = 11\n",
    "sigma = 0.8\n",
    "n = 35\n",
    "\n",
    "# Valor critico 1\n",
    "Xc1 = mu + (sigma/np.sqrt(n))*z1\n",
    "print(\"Valor crítico 1: \", Xc1, \" litros por 100 km\")\n",
    "print(\"==================================================\")\n",
    "\n",
    "#Caso critico 2\n",
    "print(\"Caso crítico 2\")\n",
    "\n",
    "# Z Score caso 2\n",
    "z2 = st.norm.ppf(1 - alpha/2)\n",
    "print(\"Z Score caso crítico 2: \", z2)\n",
    "\n",
    "# Valor critico 2\n",
    "Xc2 = mu + (sigma/np.sqrt(n))*z2\n",
    "print(\"Valor crítico 2: \", Xc2, \" litros por 100 km\")\n",
    "print(\"==================================================\")\n",
    "\n",
    "# Valores observados\n",
    "Xobs = 11.4\n",
    "print(\"Valor médio observado: \", Xobs, \" litros por 100 km\")\n",
    "\n",
    "# teste de Hipotese\n",
    "print(\"Teste de Hipótese: \")\n",
    "if(Xobs < Xc1 or Xobs > Xc2):\n",
    "    print(\"Rejeitamos H0\")\n",
    "else:\n",
    "    print(\"Aceitamos H0\")"
   ]
  },
  {
   "cell_type": "markdown",
   "id": "8a4b22f8",
   "metadata": {},
   "source": [
    "__5)__ Os novos operários de uma empresa são treinados a operarem uma máquina, cujo tempo X (em horas) de aprendizado é anotado. Observou-se que X segue de perto a distribuição normal N(25; 100). Uma nova técnica de ensino, que deve melhorar o tempo de aprendizado, foi testada em 16 novos empregados, os quais apresentaram 20.5 horas como tempo médio de aprendizado. Usando o p-valor, você diria que a nova técnica é melhor que a anterior?"
   ]
  },
  {
   "cell_type": "markdown",
   "id": "74963b21",
   "metadata": {},
   "source": [
    "$H_0: \\mu = 25$ horas<br>\n",
    "$H_1: \\mu < 25$ horas"
   ]
  },
  {
   "cell_type": "markdown",
   "id": "50a60674",
   "metadata": {},
   "source": [
    "$$ P\\left(\\overline{X} < 20.5 | \\mu = 25\\right) = P\\left(\\frac{\\overline{X} - \\mu}{\\frac{\\sigma}{\\sqrt{n}}} < \\frac{20.5 - \\mu}{\\frac{\\sigma}{\\sqrt{n}}}\\right) = P\\left(\\frac{\\overline{X} - \\mu}{\\frac{\\sigma}{\\sqrt{n}}} < \\frac{20.5 - 25}{\\frac{\\sqrt{100}}{\\sqrt{16}}}\\right) = P(Z < -1,8)$$\n"
   ]
  },
  {
   "cell_type": "code",
   "execution_count": 6,
   "id": "8a98cc64",
   "metadata": {},
   "outputs": [
    {
     "name": "stdout",
     "output_type": "stream",
     "text": [
      "Z - Score:  -1.8\n",
      "Probabilidade:  0.03593031911292579\n"
     ]
    }
   ],
   "source": [
    "# Parametros\n",
    "Xobs = 20.5\n",
    "mu = 25\n",
    "sigma = np.sqrt(100)\n",
    "n = 16\n",
    "\n",
    "# Calculo do Z-score\n",
    "z = (Xobs - mu)/(sigma/np.sqrt(n))\n",
    "\n",
    "# Print do Z Score e da probabilidade\n",
    "print('Z - Score: ', z)\n",
    "print('Probabilidade: ', st.norm.cdf(z))"
   ]
  },
  {
   "cell_type": "markdown",
   "id": "41e31777",
   "metadata": {},
   "source": [
    "Dado que o valor p < 0.05, temos forte evidência para rejeitar $H_{0}$, ou seja a metodologia nova aplicada é melhor."
   ]
  },
  {
   "cell_type": "markdown",
   "id": "5b9399f4",
   "metadata": {},
   "source": [
    "## "
   ]
  }
 ],
 "metadata": {
  "kernelspec": {
   "display_name": "Python 3 (ipykernel)",
   "language": "python",
   "name": "python3"
  },
  "language_info": {
   "codemirror_mode": {
    "name": "ipython",
    "version": 3
   },
   "file_extension": ".py",
   "mimetype": "text/x-python",
   "name": "python",
   "nbconvert_exporter": "python",
   "pygments_lexer": "ipython3",
   "version": "3.8.11"
  }
 },
 "nbformat": 4,
 "nbformat_minor": 5
}
