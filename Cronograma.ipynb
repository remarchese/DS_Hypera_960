{
 "cells": [
  {
   "cell_type": "markdown",
   "id": "4a85bd93",
   "metadata": {},
   "source": [
    "# Cronograma - Estatística I"
   ]
  },
  {
   "cell_type": "markdown",
   "id": "e389e4ef",
   "metadata": {},
   "source": [
    "| SEGUNDA           | QUARTA           | SEXTA     |\n",
    "|-------------------|------------------|-----------|\n",
    "|                   |                  | **28/abr**    |\n",
    "|                   |                  | Estast. Descritiva       |\n",
    "| **01/mai**            | **03/mai**           | **05/mai**    |\n",
    "| Feriado           | Probabilidade    | Distrib Prob   |\n",
    "| **08/mai**            | **10/mai**           | **12/mai**    |\n",
    "| TLC               | Amostragem       | Estimação |\n",
    "| **15/mai**            | **17/mai**           | **19/mai**    |\n",
    "| Teste de hipótese | Séries Temporais | Trabalho  |"
   ]
  },
  {
   "cell_type": "code",
   "execution_count": null,
   "id": "e0ef329a",
   "metadata": {},
   "outputs": [],
   "source": []
  }
 ],
 "metadata": {
  "kernelspec": {
   "display_name": "Python 3 (ipykernel)",
   "language": "python",
   "name": "python3"
  },
  "language_info": {
   "codemirror_mode": {
    "name": "ipython",
    "version": 3
   },
   "file_extension": ".py",
   "mimetype": "text/x-python",
   "name": "python",
   "nbconvert_exporter": "python",
   "pygments_lexer": "ipython3",
   "version": "3.10.9"
  },
  "varInspector": {
   "cols": {
    "lenName": 16,
    "lenType": 16,
    "lenVar": 40
   },
   "kernels_config": {
    "python": {
     "delete_cmd_postfix": "",
     "delete_cmd_prefix": "del ",
     "library": "var_list.py",
     "varRefreshCmd": "print(var_dic_list())"
    },
    "r": {
     "delete_cmd_postfix": ") ",
     "delete_cmd_prefix": "rm(",
     "library": "var_list.r",
     "varRefreshCmd": "cat(var_dic_list()) "
    }
   },
   "types_to_exclude": [
    "module",
    "function",
    "builtin_function_or_method",
    "instance",
    "_Feature"
   ],
   "window_display": false
  }
 },
 "nbformat": 4,
 "nbformat_minor": 5
}
