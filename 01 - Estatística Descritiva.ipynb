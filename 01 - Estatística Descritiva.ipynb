{
 "cells": [
  {
   "cell_type": "markdown",
   "id": "6fbb66ce",
   "metadata": {},
   "source": [
    "# 00 - Apresentação e Introdução ao cusro de Estatística I"
   ]
  },
  {
   "cell_type": "markdown",
   "id": "0cde99e2",
   "metadata": {},
   "source": [
    "Renata Martins Marchese\n",
    "\n",
    "- https://www.linkedin.com/in/renatamarchese/\n",
    "- Email: renata.marchese@ada.tech\n",
    "- Material: https://github.com/renatapink/DS_Hypera_960\n",
    "- Material no class\n",
    "- Chat do class\n",
    "- Grupo do whatsapp\n",
    "\n",
    "\n",
    "    - Procurar por Collab do Google, Try Jupyter, deepnote, kaggle e muitos outros (jupyter online)"
   ]
  },
  {
   "cell_type": "markdown",
   "id": "fb90d3d6",
   "metadata": {},
   "source": [
    "# 01 - Estatística Descritiva\n",
    "\n",
    "Nessa aula, iremos tratar dos seguintes conteúdos:\n",
    "- Introdução\n",
    "- Tipos de Variáveis\n",
    "- Estatística Descritiva\n",
    "- Métricas de Posição\n",
    "- Boxplot\n",
    "- Outliers\n",
    "- Métricas de Dispersão\n",
    "- Correlação\n",
    "- Assimetria\n",
    "- Tabela de Frequências"
   ]
  },
  {
   "cell_type": "markdown",
   "id": "b1fe5244",
   "metadata": {},
   "source": [
    "<img src = \"https://encrypted-tbn0.gstatic.com/images?q=tbn:ANd9GcTIqUDdVObHKev_QuHhakpATphyz6L62qflwl3vn79djOLS07sc4sbSot6M2oO_DR5tnycZygSagBuB6g&usqp=CAU\" width = 800>"
   ]
  },
  {
   "cell_type": "markdown",
   "id": "57c7c7c6",
   "metadata": {},
   "source": [
    "## "
   ]
  },
  {
   "cell_type": "markdown",
   "id": "527a5498",
   "metadata": {},
   "source": [
    "## Estatística Descritiva"
   ]
  },
  {
   "cell_type": "markdown",
   "id": "70095e71",
   "metadata": {},
   "source": [
    "Nessa e na próxima aula iniciaremos nossa introdução a **Probabilidade e Estatística**.\n",
    "\n",
    "Essas duas áreas são extremamente amplas, e fornecem toda a base da __ciência de dados__. Por isso, vamos dar uma olhada nos principais conceitos. A probabilidade e estatística podem ser divididas nos seguintes três pilares:\n",
    "\n",
    "**Probabilidade**: é a teoria matemática utilizada para se estudar a incerteza oriundas de `fenômenos de caráter aleátorio`.\n",
    "\n",
    "**Estatística Descritiva**: Etapa inicial da análise estatística, tendo como objetivo tirar informações prévias de modo informal e direto. A ideia é obter informações que `resumam` o conjuto de dados, a fim que estes possam ser `descritos`, e conclusões iniciais possam ser tiradas.\n",
    "\n",
    "**Inferência Estatística**: É o conjunto de técnicas que possibilitam a extrapolação de conclusões tiradas a partir de um conjunto pequeno de dados (denominado `amostra`) para todo o universo sob análise (denominado (`população`).\n",
    "\n",
    "<img src=\"https://phhp-faculty-cantrell.sites.medinfo.ufl.edu/files/2012/07/mod10-big_picture_inference.gif\" width=\"600\">"
   ]
  },
  {
   "cell_type": "markdown",
   "id": "c07abf80",
   "metadata": {},
   "source": [
    "##  "
   ]
  },
  {
   "cell_type": "markdown",
   "id": "309f78a1",
   "metadata": {},
   "source": [
    "## Tipos de Variáveis \n",
    "\n",
    "Antes de explorarmos a estatística descritiva é importante formalizarmos os **tipos de dados** com os quais normalmente trabalhamos:\n",
    "\n",
    "- **Variavél qualitativa** \n",
    "-- *Nominal* \n",
    "\n",
    "Valores que expressam **atributos sem nenhum tipo de ordem**. Ex : sexo, estado civil, país de origem, ser fumante ou não, etc.\n",
    "\n",
    "    - São representados por strings\n",
    "\n",
    "\n",
    "- **Variavél qualitativa** \n",
    "-- *Ordinal* \n",
    "\n",
    "Valores que expressam **atributos com algum tipo de ordem ou grau**. Ex: escolaridade, resposta de um paciente(piora, igual, melhora), classe social(alta, média,baixa), classe do navio, etc.\n",
    "\n",
    "    - São representados por strings\n",
    "    \n",
    "\n",
    "- **Variavél quantitativa** \n",
    "-- *Discreta*  \n",
    "\n",
    "Valores numéricos inteiros. Ex: idade em anos inteiros, número de banheiros em uma casa, número de filhos, etc.\n",
    "\n",
    "    - São representados por ints\n",
    "    \n",
    "\n",
    "- **Variavél quantitativa** \n",
    "-- *Contínua*  \n",
    "\n",
    "Valores numéricos racionais. Ex: salário, preço, temperatura, gorjeta, etc.\n",
    "\n",
    "    - São representados por floats"
   ]
  },
  {
   "cell_type": "markdown",
   "id": "f8d055c9",
   "metadata": {},
   "source": [
    "##  "
   ]
  },
  {
   "cell_type": "markdown",
   "id": "6fbe548d",
   "metadata": {},
   "source": [
    "## Métricas de Posição\n",
    "\n",
    "Como mencionamos anteriormente, o principal objetivo da estatística descritiva é gerar **medidas que resumam** o conjunto de dados que estamos analisando, ou seja, medidas que descrevam **a distribuição** dos dados, de forma quantitativa. Temos dois tipos de métricas disponíveis: as métricas de __posição__ e __dispersão__. Vamos conhecer melhor essas métricas a seguir:"
   ]
  },
  {
   "cell_type": "markdown",
   "id": "fe7abf76",
   "metadata": {},
   "source": [
    "__Métricas de Posição:__ Estas são medidas que **resumem** algumas propriedades do conjunto de dados:\n",
    "\n",
    "<img src=\"https://i.pinimg.com/originals/3e/8a/90/3e8a90c122ad25240cc46ac075cb0f4c.png\" width=200>\n",
    "\n",
    "### Média\n",
    "\n",
    "Seja $X$ uma variável quantitativa e $x_1,x_2,x_3, ...$ os valores assumidos por X. Define-se média de $\\overline{X}$ como sendo :\n",
    "\n",
    "$$\\overline{X} = \\frac{\\sum_{i=1}^{n}x_i}{n}= \\frac{x_1+ x_2 + x_3 +... +x_n}{n}$$"
   ]
  },
  {
   "cell_type": "code",
   "execution_count": 1,
   "id": "23d2bf68",
   "metadata": {
    "ExecuteTime": {
     "end_time": "2023-04-28T23:19:33.546409Z",
     "start_time": "2023-04-28T23:19:25.370452Z"
    }
   },
   "outputs": [],
   "source": [
    "# Import das Principais Bibliotecas\n",
    "import pandas as pd \n",
    "import numpy as np\n",
    "import matplotlib.pyplot as plt\n",
    "import seaborn as sns"
   ]
  },
  {
   "cell_type": "code",
   "execution_count": 14,
   "id": "b4ae2a3c",
   "metadata": {
    "ExecuteTime": {
     "end_time": "2023-04-28T23:43:41.039058Z",
     "start_time": "2023-04-28T23:43:41.021586Z"
    }
   },
   "outputs": [
    {
     "name": "stdout",
     "output_type": "stream",
     "text": [
      "Dados: [ 7 15 11  8  7 19 11 11  4  8  3  2]\n",
      "\n",
      "Média dos dados: 8.833333333333334\n"
     ]
    }
   ],
   "source": [
    "# Define uma semente randômica ----> para todas as execuções derem o mesmo valor\n",
    "np.random.seed(42)\n",
    "\n",
    "# Vamos criar uma amostra aleatória de numéros inteiros\n",
    "amostra = np.random.randint(1, 20, 12)\n",
    "\n",
    "# Print da amostra\n",
    "print(\"Dados:\", amostra)\n",
    "\n",
    "# Print da Média da Amostra\n",
    "print(\"\\nMédia dos dados:\", amostra.mean())  # <---------"
   ]
  },
  {
   "cell_type": "markdown",
   "id": "2a25d399",
   "metadata": {},
   "source": [
    "## "
   ]
  },
  {
   "cell_type": "markdown",
   "id": "84dc8be1",
   "metadata": {},
   "source": [
    "### Mediana\n",
    "\n",
    "A **mediana** de uma variável é um número tal que há o mesmo número de observações maiores e menores do que ele, ocupando assim a **posição central** da série de observações.\n",
    "\n",
    "Assim, para calcularmos a mediana, basta **ordenarmos os dados, do menor pro maior**, e contar o que está no meio dos dados ordenados (se houver número par de dados, pega-se a média entre os dados que estão \"no meio\")\n",
    "\n",
    "- *Exemplo*\n",
    "\n",
    "i) 3,4,**7**,8,8 **mediana = 7**       (CASO ÍMPAR)\n",
    "\n",
    "ii) 3,4,**7**,**8**,8,9 **mediana = (7+8)/2 = 7,5**   (CASO PAR)\n",
    "\n",
    "<br>\n",
    "\n",
    "Logo, podemos definir: \n",
    "\n",
    "- Mediana de $X = X_{\\frac{n+1}{2}}$ `Se tamanho da amostra ímpar`\n",
    "\n",
    "\n",
    "- Mediana de $X = \\frac{X_{\\frac{n}{2}}+ X_{\\frac{n+1}{2}}}{2}$ `Se tamanho da amostra par`\n",
    "\n",
    "Como os valores de **indice no python** começam em `0`, devemos nos atentar que a equação acima deve ficar como:\n",
    "\n",
    "- Mediana de $X = X_{\\frac{n}{2}}$ `Se tamanho da amostra ímpar`\n",
    "\n",
    "\n",
    "- Mediana de $X = \\frac{X_{\\frac{n-1}{2}}+ X_{\\frac{n}{2}}}{2}$ `Se tamanho da amostra par`"
   ]
  },
  {
   "cell_type": "code",
   "execution_count": 25,
   "id": "cbedaa4e",
   "metadata": {
    "ExecuteTime": {
     "end_time": "2023-04-29T00:21:19.687804Z",
     "start_time": "2023-04-29T00:21:19.673315Z"
    }
   },
   "outputs": [
    {
     "name": "stdout",
     "output_type": "stream",
     "text": [
      "Dados: [ 7 15 11  8  7 19 11 11  4  8  3  2 12]\n",
      "\n",
      "Dados ordenados: [2, 3, 4, 7, 7, 8, 8, 11, 11, 11, 12, 15, 19]\n",
      "\n",
      "Mediana dos dados: 8.0\n"
     ]
    }
   ],
   "source": [
    "# Define a semente randômica\n",
    "np.random.seed(42)\n",
    "\n",
    "# Cria uma amostra de números aleatórios\n",
    "amostra = np.random.randint(1, 20, 13)\n",
    "\n",
    "# Print da Amostra\n",
    "print(\"Dados:\", amostra)\n",
    "\n",
    "# Print da Amostra Ordenada\n",
    "print(\"\\nDados ordenados:\", sorted(amostra)) # função sorted vai ordenar os valores\n",
    "\n",
    "# Print do Valor da Mediana\n",
    "print(\"\\nMediana dos dados:\", np.median(amostra))"
   ]
  },
  {
   "cell_type": "markdown",
   "id": "9d117d74",
   "metadata": {},
   "source": [
    "## "
   ]
  },
  {
   "cell_type": "markdown",
   "id": "4b3f49fa",
   "metadata": {},
   "source": [
    "### Quartis (Q1, Q2 e Q3)\n",
    "\n",
    "São valores dados a partir do conjunto de observações ordenado em ordem crescente, que dividem os dados **em quatro partes iguais**. \n",
    "\n",
    "- O primeiro quartil, Q1, é o número que deixa 25% das observações abaixo e 75% acima;\n",
    "- O segundo quartil, Q2 é a **mediana**, deixa 50% das observações abaixo e 50% das observações acima;\n",
    "- O terceiro quartil, Q3, deixa 75% das observações abaixo e 25% acima;\n",
    "\n",
    "\n",
    "<img src=\"https://aprendendogestao.com.br/wp-content/uploads/2016/07/QE-Figura-1.png\" width=\"700\" height=\"700\" />"
   ]
  },
  {
   "cell_type": "code",
   "execution_count": 28,
   "id": "32f38146",
   "metadata": {
    "ExecuteTime": {
     "end_time": "2023-04-29T00:28:33.466953Z",
     "start_time": "2023-04-29T00:28:33.447718Z"
    }
   },
   "outputs": [
    {
     "name": "stdout",
     "output_type": "stream",
     "text": [
      "Dados: [ 7 15 11  8  7 19 11 11  4  8  3  2 12]\n",
      "\n",
      "Dados Ordenados: [2, 3, 4, 7, 7, 8, 8, 11, 11, 11, 12, 15, 19]\n",
      "\n",
      "Q1: 7.0\n",
      "\n",
      "Q2: 8.0\n",
      "\n",
      "Q3: 11.0\n",
      "\n",
      "0.1-quantile: 3.2\n"
     ]
    }
   ],
   "source": [
    "# Print da Amostra\n",
    "print(\"Dados:\", amostra)\n",
    "\n",
    "# Print da Amostra Ordenada\n",
    "print(\"\\nDados Ordenados:\", sorted(amostra))\n",
    "\n",
    "# Print dos Quartis\n",
    "print(\"\\nQ1:\", np.quantile(amostra, 0.25)) # calcular o primeiro quartil Q1\n",
    "print(\"\\nQ2:\", np.quantile(amostra, 0.50)) # mediana\n",
    "print(\"\\nQ3:\", np.quantile(amostra, 0.75))\n",
    "print(\"\\n0.1-quantile:\", np.quantile(amostra, 0.1))"
   ]
  },
  {
   "cell_type": "markdown",
   "id": "84a5d2e5",
   "metadata": {},
   "source": [
    "## "
   ]
  },
  {
   "cell_type": "markdown",
   "id": "7629881b",
   "metadata": {},
   "source": [
    "### Intervalo Interquartil (IQR)\n",
    "\n",
    "Por construção, aproximadamente metade dos dados estão entre o 1º e o 3º quartil, isto é, este também pode ser interpretado como **um intervalo de valores tipicamente assumidos pelas observações**, e também é uma **medida de dispersão**, pois nos dá uma ideia da variação que existe entre o Q1 e o Q3."
   ]
  },
  {
   "cell_type": "code",
   "execution_count": 29,
   "id": "3c851b67",
   "metadata": {
    "ExecuteTime": {
     "end_time": "2023-04-29T00:30:02.356000Z",
     "start_time": "2023-04-29T00:30:02.335815Z"
    }
   },
   "outputs": [
    {
     "name": "stdout",
     "output_type": "stream",
     "text": [
      "Dados: [ 7 15 11  8  7 19 11 11  4  8  3  2 12]\n",
      "\n",
      "Dados ordenados: [2, 3, 4, 7, 7, 8, 8, 11, 11, 11, 12, 15, 19]\n",
      "\n",
      "IQR: 4.0\n"
     ]
    }
   ],
   "source": [
    "# Print da Amostra\n",
    "print(\"Dados:\", amostra)\n",
    "\n",
    "# Print da Amostra Ordenada\n",
    "print(\"\\nDados ordenados:\", sorted(amostra))\n",
    "\n",
    "# Calcula o intervalo interquartil\n",
    "iqr = np.quantile(amostra, 0.75) - np.quantile(amostra, 0.25)\n",
    "\n",
    "# Print do IQR\n",
    "print(\"\\nIQR:\", iqr)"
   ]
  },
  {
   "cell_type": "markdown",
   "id": "efa0b467",
   "metadata": {},
   "source": [
    "## "
   ]
  },
  {
   "cell_type": "markdown",
   "id": "39534c92",
   "metadata": {},
   "source": [
    "### Moda\n",
    "\n",
    "A **moda** é o valor que ocorre com **maior frequencia** em um conjunto de dados. Dependendo do conjunto de dados, ele pode ser:\n",
    "\n",
    "- Sem moda: quando nenhum valor se repete \n",
    "\n",
    "- unimodal: Quando existe apenas um valor repetido com maior frequência \n",
    "\n",
    "- multimodal: quando existem mais de um valor com a mesma frequência máxima"
   ]
  },
  {
   "cell_type": "code",
   "execution_count": 31,
   "id": "f09a1319",
   "metadata": {
    "ExecuteTime": {
     "end_time": "2023-04-29T00:32:46.322925Z",
     "start_time": "2023-04-29T00:32:46.314366Z"
    }
   },
   "outputs": [
    {
     "name": "stdout",
     "output_type": "stream",
     "text": [
      "Dados: [ 7 15 11  8  7 19 11 11  4  8  3  2 12]\n",
      "\n",
      "Moda dos dados: 11\n"
     ]
    }
   ],
   "source": [
    "# Print da Amostra\n",
    "print(\"Dados:\", amostra)\n",
    "\n",
    "# não existe método np.mode(), temos que transformar os dados em uma série\n",
    "print(\"\\nModa dos dados:\", pd.Series(amostra).mode()[0])"
   ]
  },
  {
   "cell_type": "markdown",
   "id": "4fa06373",
   "metadata": {},
   "source": [
    "Se construirmos uma série do pandas, é possível ter as estatísticas descritivas todas de uma vez, com o describe():"
   ]
  },
  {
   "cell_type": "code",
   "execution_count": 32,
   "id": "86b0f290",
   "metadata": {
    "ExecuteTime": {
     "end_time": "2023-04-29T00:33:24.953009Z",
     "start_time": "2023-04-29T00:33:24.931010Z"
    },
    "scrolled": false
   },
   "outputs": [
    {
     "name": "stdout",
     "output_type": "stream",
     "text": [
      "Dados na forma de série:\n"
     ]
    },
    {
     "data": {
      "text/plain": [
       "0      7\n",
       "1     15\n",
       "2     11\n",
       "3      8\n",
       "4      7\n",
       "5     19\n",
       "6     11\n",
       "7     11\n",
       "8      4\n",
       "9      8\n",
       "10     3\n",
       "11     2\n",
       "12    12\n",
       "dtype: int32"
      ]
     },
     "metadata": {},
     "output_type": "display_data"
    },
    {
     "name": "stdout",
     "output_type": "stream",
     "text": [
      "Estatísticas descritivas dos dados:\n"
     ]
    },
    {
     "data": {
      "text/plain": [
       "count    13.000000\n",
       "mean      9.076923\n",
       "std       4.803845\n",
       "min       2.000000\n",
       "25%       7.000000\n",
       "50%       8.000000\n",
       "75%      11.000000\n",
       "max      19.000000\n",
       "dtype: float64"
      ]
     },
     "metadata": {},
     "output_type": "display_data"
    },
    {
     "name": "stdout",
     "output_type": "stream",
     "text": [
      "\n",
      "A moda fica de fora... Mas é fácil de obter:\n"
     ]
    },
    {
     "data": {
      "text/plain": [
       "0    11\n",
       "dtype: int32"
      ]
     },
     "metadata": {},
     "output_type": "display_data"
    }
   ],
   "source": [
    "# Cria uma Serie da amostra gerada anteriormente\n",
    "amostra_serie = pd.Series(amostra)\n",
    "\n",
    "# Print da Série\n",
    "print(\"Dados na forma de série:\")\n",
    "display(amostra_serie)\n",
    "\n",
    "# Print do Sumário Estatístico\n",
    "print(\"Estatísticas descritivas dos dados:\")\n",
    "display(amostra_serie.describe())\n",
    "\n",
    "# Cálculo da Moda\n",
    "print(\"\\nA moda fica de fora... Mas é fácil de obter:\")\n",
    "display(amostra_serie.mode())"
   ]
  },
  {
   "cell_type": "markdown",
   "id": "aaa7708e",
   "metadata": {},
   "source": [
    "## "
   ]
  },
  {
   "cell_type": "markdown",
   "id": "abf12ac9",
   "metadata": {},
   "source": [
    "### Box Plot\n",
    "\n",
    "O boxplot (gráfico de caixa) é um gráfico utilizado para avaliar a distribuição empírica do dados. O boxplot é formado pelo primeiro e terceiro quartil e pela mediana. As hastes conhecidos como bigodes (**whiskers**) inferiores e superiores se estendem, respectivamente, do quartil inferior até o menor valor não inferior ao limite inferior e do quartil superior até o maior valor não superior ao limite superior. Os limites são calculados da forma abaixo:\n",
    "\n",
    "Limite inferior: $ \\max\\{\\min(\\text{dados});Q_1-1,5(Q_3-Q_1)\\} $.\n",
    "\n",
    "Limite superior: $ \\min\\{\\max(\\text{dados});Q_3+1,5(Q_3-Q_1)\\} $.\n",
    "\n",
    "Para este caso, os pontos fora destes limites são considerados valores discrepantes (Outliers) e são denotados por asterisco (*). A Figura  a seguir apresenta um exemplo do formato de um boxplot.\n",
    "\n",
    "<img src=https://miro.medium.com/max/8000/1*0MPDTLn8KoLApoFvI0P2vQ.png width=500>\n",
    "\n",
    "O boxplot pode ainda ser utilizado para uma comparação visual entre dois ou mais grupos. Por exemplo, duas ou mais caixas são colocadas lado a lado e se compara a variabilidade entre elas, a mediana e assim por diante. Outro ponto importante é a diferença entre os quartis $ (Q_3 - Q_1) $ que é uma medida da variabilidade dos dados."
   ]
  },
  {
   "cell_type": "markdown",
   "id": "d7f57a54",
   "metadata": {},
   "source": [
    "## "
   ]
  },
  {
   "cell_type": "markdown",
   "id": "ef8edffb",
   "metadata": {},
   "source": [
    "### Outliers\n",
    "\n",
    "**Outliers** ou **discrepantes** referem-se a obsevações **extremas**, que se deslocam em muito das outras observações em um conjunto de dados, ou seja, que **destoam do padrão da distribuição** dos dados. Outliers podem existir por motivos diferentes, alguns dos quais são:\n",
    "\n",
    "- erro na entrada de dados (erro humano);\n",
    "- erro na medição/coleta dos dados (erro instrumental);\n",
    "- erros experimentais (planejamento/execução dos experimentos);\n",
    "- outliers naturais (não decorrente de erros)\n",
    "\n",
    "<img src=\"https://miro.medium.com/max/700/1*J5Xm0X-phCJJ-DKZMZ_88w.png\">\n",
    "\n",
    "No caso dos erros, é importante que os outliers sejam tratados (comumente são removidos). Por outro lado, outliers naturais são importantes constituintes dos dados, de modo que não devem ser eliminados mas, muitas vezes, devem ser tratados.\n",
    "\n",
    "De qualquer modo, antes de começarmos a pensar em como **tratar** os outliers, o primeiro passo é **identificá-los** e a melhor forma para isso é utilizar dos boxplots."
   ]
  },
  {
   "cell_type": "markdown",
   "id": "29860ed2",
   "metadata": {},
   "source": [
    "##  "
   ]
  },
  {
   "cell_type": "markdown",
   "id": "36384393",
   "metadata": {},
   "source": [
    "### Medidas de Dispersão\n",
    "\n",
    "Estas são **medidas de variabilidade**, que indicam o quanto as observações variam ao redor de alguma medida de centralidade (média, mediana, etc.). Em outras palavras, indicam **o quão longe podemos esperar que uma observação esteja do valor típico para aquela variável**. \n",
    "\n",
    "Existem diversas medidas de variabilidade, algumas das quais apresentamos a seguir."
   ]
  },
  {
   "cell_type": "markdown",
   "id": "bf51bbc9",
   "metadata": {},
   "source": [
    "### Amplitude\n",
    "\n",
    "A amplitude é a **diferença entre o maior e o menor valor observado**. Algo bem importante a salientar sobre a amplitude é:\n",
    "\n",
    "- **Fortemente influenciada** por valores extremos nas observações, como outliers. "
   ]
  },
  {
   "cell_type": "code",
   "execution_count": null,
   "id": "4dd1b1a2",
   "metadata": {
    "ExecuteTime": {
     "end_time": "2023-02-15T21:21:55.052627Z",
     "start_time": "2023-02-15T21:21:54.725253Z"
    }
   },
   "outputs": [],
   "source": []
  },
  {
   "cell_type": "code",
   "execution_count": null,
   "id": "1e38f75b",
   "metadata": {
    "ExecuteTime": {
     "end_time": "2023-02-15T21:21:55.130203Z",
     "start_time": "2023-02-15T21:21:55.113248Z"
    }
   },
   "outputs": [],
   "source": []
  },
  {
   "cell_type": "markdown",
   "id": "9c8b68b2",
   "metadata": {},
   "source": [
    "## "
   ]
  },
  {
   "cell_type": "markdown",
   "id": "6af75f44",
   "metadata": {},
   "source": [
    "### Variância \n",
    "\n",
    "A variância representa **o quanto os dados se afastam da média, em geral**. Por definição, tomamos a média dos **desvios quadráticos da média**:\n",
    "\n",
    "$$ Var(X) = \\sum_{i=1}^{n}\\frac{(x-\\overline{x})^{2}}{n-1} = \\frac{(x_1-\\overline{x})^{2}}{n-1} + \\frac{(x_2-\\overline{x})^{2}}{n-1} + \\cdots$$"
   ]
  },
  {
   "cell_type": "code",
   "execution_count": null,
   "id": "e4a9d5e8",
   "metadata": {
    "ExecuteTime": {
     "end_time": "2023-02-15T21:21:56.376464Z",
     "start_time": "2023-02-15T21:21:56.366532Z"
    },
    "scrolled": true
   },
   "outputs": [],
   "source": []
  },
  {
   "cell_type": "markdown",
   "id": "8e5c0bbc",
   "metadata": {},
   "source": [
    "## "
   ]
  },
  {
   "cell_type": "markdown",
   "id": "f522582d",
   "metadata": {},
   "source": [
    "### Desvio padrão\n",
    "\n",
    "Note que, da forma como foi definida, a variância é um valor **quadrático** nos dados. Para evitar isso, é comum tirar a raiz quadrada da variância, o que define o **desvio padrão**:\n",
    "\n",
    "$$ \\sigma(X) \\equiv \\sqrt{Var(X)} = \\sqrt{\\sum_{i=1}^{n}\\frac{(x-\\overline{x})^{2}}{n - 1}}$$"
   ]
  },
  {
   "cell_type": "code",
   "execution_count": null,
   "id": "05bef3a7",
   "metadata": {
    "ExecuteTime": {
     "end_time": "2023-02-15T21:21:57.510492Z",
     "start_time": "2023-02-15T21:21:57.497529Z"
    }
   },
   "outputs": [],
   "source": []
  },
  {
   "cell_type": "code",
   "execution_count": null,
   "id": "b4f1b42d",
   "metadata": {
    "ExecuteTime": {
     "end_time": "2023-02-15T21:21:57.929920Z",
     "start_time": "2023-02-15T21:21:57.911915Z"
    }
   },
   "outputs": [],
   "source": []
  },
  {
   "cell_type": "markdown",
   "id": "86328e97",
   "metadata": {},
   "source": [
    "## "
   ]
  },
  {
   "cell_type": "markdown",
   "id": "a5a576c9",
   "metadata": {},
   "source": [
    "## Métricas de associação entre variáveis quantitativas\n",
    "\n",
    "\n",
    "Sejam $X$ e $Y$ variáveis quantitativas de interesse e as amostras aleatórias observadas $x_1,\\ldots,x_n$ e $y_1,\\ldots,y_n$, respectivamente. As medidas de associação mais utilizadas são:\n",
    "<br>\n",
    "\n",
    "### Covariância \n",
    "\n",
    "A __Covariância__ faz uma comparação similar que a variância, com a diferença que está comparação é entre variáveis distintas $X$ e $Y$:\n",
    "\n",
    "$s_{XY} = \\displaystyle{\\frac{\\displaystyle\\sum_{i=1}^{n}(x_i-\\bar{x})(y_i-\\bar{y})}{n-1}}$"
   ]
  },
  {
   "cell_type": "markdown",
   "id": "b754ad90",
   "metadata": {},
   "source": [
    "## "
   ]
  },
  {
   "cell_type": "markdown",
   "id": "c0208637",
   "metadata": {},
   "source": [
    "### Correlação\n",
    "\n",
    "Um dos conceitos mais importantes em Data Science é o da **correlação**. A partir de estudos de correlação, é possível **descobrirmos como diferentes variáveis interagem**.\n",
    "<br>\n",
    "<img src=\"https://www.mathsisfun.com/data/images/correlation-examples.svg\" width=700>\n",
    "<br>\n",
    "É bem importante distinguirmos correlações **lineares** de **não lineares**. \n",
    "<br>\n",
    "<img src=\"https://miro.medium.com/max/1414/1*ZMwog-_YcD0qBHc9_1T1-w.png\" width=700>\n",
    "<br>\n",
    "Para fazer a distinção acima, há testes específicos para correlação. Vamos ver dois coeficientes de correlação específicos que sâo: __Pearson__ e __Spearmann__"
   ]
  },
  {
   "cell_type": "markdown",
   "id": "6f5535d2",
   "metadata": {},
   "source": [
    "## "
   ]
  },
  {
   "cell_type": "markdown",
   "id": "eabc7351",
   "metadata": {},
   "source": [
    "### Correlação de Pearson\n",
    "\n",
    "A [__Correlação de Pearson__](https://pt.wikipedia.org/wiki/Coeficiente_de_correla%C3%A7%C3%A3o_de_Pearson) é expressa como  a **taxa de relação linear entre duas variáveis numéricas**. Quanto mais próximo de 1 ou -1, mais **linearmente correlacionado estão as variáveis testadas**. A fórmula define-se como:\n",
    "\n",
    "\n",
    "$r = \\displaystyle{\\frac{s_{XY}}{\\sqrt{s^2_X s^2_Y }}}$\n",
    "\n",
    "\n",
    "Propriedade: \n",
    "\n",
    " $-1 \\leq r \\leq 1$\n",
    "\n",
    "\n",
    "É comum usar as seguintes classificações:\n",
    "\n",
    "1. $r=1$ indica uma correlação perfeita e positiva\n",
    "\n",
    "2. $r=-1$ indica uma correlação perfeita e negativa\n",
    "\n",
    "3. $0.7 \\leq |r| \\leq 1$ indica uma correlação forte\n",
    "\n",
    "4. $0.5 \\leq |r| \\leq 0.69$ indica uma correlação moderada\n",
    "\n",
    "5. $0 \\leq |r| \\leq 0.49$ indica uma correlação fraca\n",
    "<br>\n",
    "\n",
    "### Correlação de Spearman\n",
    "\n",
    "[__Correlação de Spearmann__](https://pt.wikipedia.org/wiki/Coeficiente_de_correla%C3%A7%C3%A3o_de_postos_de_Spearman) e outra correlação linear bem conhecida e este coeficiente indica se as amostras possuem correlação *monotônica*, isso é, **se aumentarmos ou diminuimos uma, a outra irá aumentar ou diminuir**. \n",
    "\n",
    "O coeficiente varia entre -1 e 1:\n",
    "\n",
    "> Quanto mais próximo de 1 for o coeficiente, mais positivamente correlacionada as amostras, isso é, se aumentarmos uma, a outra ira aumentar (ou se diminuimos uma, a outra irá diminuir); \n",
    "\n",
    "> Quanto mais próximo de -1 for o resultado, mais negativamente correlacionada estão as variáveis, isso é, aumentando uma, a outra irá dimunuir (ou se diminuímos uma, a outra irá aumentar). \n",
    "\n",
    "> Uma correlação de 0 indica ausência de correlação.\n",
    "\n",
    "**Importante:** o coeficiente de Spearman **não** indica correlação necessariamente linear!"
   ]
  },
  {
   "cell_type": "code",
   "execution_count": null,
   "id": "b47ee925",
   "metadata": {
    "ExecuteTime": {
     "end_time": "2023-02-15T21:22:00.484789Z",
     "start_time": "2023-02-15T21:22:00.463846Z"
    }
   },
   "outputs": [],
   "source": []
  },
  {
   "cell_type": "markdown",
   "id": "18a7965d",
   "metadata": {},
   "source": [
    "## "
   ]
  },
  {
   "cell_type": "markdown",
   "id": "31699aeb",
   "metadata": {},
   "source": [
    "### Assimetria\n",
    "\n",
    "É o **grau de desvio ou afastamento** da **simetria** de uma distribuição. Quando a curva é simétrica, a `média`, a `mediana` e a `moda` coincidem, num mesmo ponto, havendo um perfeito equilíbrio na distribuição. Um exemplo de distribuição simétrica é a **distribuição normal**. Quando o equilíbrio não acontece, a média, a mediana e a moda recaem em pontos diferentes da distribuição, e a distribuição se torna **assimétrica**:\n",
    "\n",
    "<img src=\"https://www.researchgate.net/profile/Marco_Faria/publication/294890337/figure/fig5/AS:668873900716049@1536483373457/a-Negative-skewness-b-Normal-curve-c-Positive-skewness-Durkhure-and-Lodwal-2014.ppm\" width=600>\n",
    "\n",
    "\n",
    "- Distribuição assimétrica **Negativa ou enviesada a esquerda**: quando os valores se concentram na extremidade superior da escala e se distribuem gradativamente em direção à extremidade inferior.\n",
    "\n",
    "- Distribuição assimétrica **Positiva ou enviesada a direita**: quando os valores se concentram na extremidade inferior da escala e se distribuem gradativamente em direção à extremidade superior.\n",
    "\n",
    "A medidade de assimetria é conhecida como **skewness**, sendo calculada como:\n",
    "\n",
    "$$ s(X) = \\frac{1}{\\sigma^3}\\sum_{i=1}^{n}\\frac{(x-\\overline{x})^{3}}{n}$$\n",
    "\n",
    "O valor da skewness nos indica a assimetria da distribuição:\n",
    "\n",
    "- s = 0: distribuição simétrica\n",
    "- s > 0: assimetria à direira\n",
    "- s < 0: assimetria à esquerda"
   ]
  },
  {
   "cell_type": "code",
   "execution_count": null,
   "id": "674cfb8f",
   "metadata": {
    "ExecuteTime": {
     "end_time": "2023-02-15T21:22:01.763359Z",
     "start_time": "2023-02-15T21:22:01.746367Z"
    }
   },
   "outputs": [],
   "source": []
  },
  {
   "cell_type": "markdown",
   "id": "0779414a",
   "metadata": {},
   "source": [
    "##  "
   ]
  },
  {
   "cell_type": "markdown",
   "id": "af5e53e0",
   "metadata": {},
   "source": [
    "### Tabelas de Frequência\n",
    "\n",
    "A distribuição de frequências é um agrupamento de dados em classes, de tal forma que contabilizamos o número de ocorrências em cada classe. O objetivo é apresentar os dados de uma maneira mais concisa e que nos permita extrair informação sobre seu comportamento. A seguir, apresentamos algumas definições necessárias à construção da distribuição de frequências.\n",
    "\n",
    "**Frequência absoluta (ƒi):** É o número de observações correspondente a cada classe. A frequência absoluta é, geralmente, chamada apenas de frequência.\n",
    "\n",
    "**Frequência relativa (ƒri):** É o quociente entre a frequência absoluta da classe correspondente e a soma das frequências (total observado), isto é, $ \\displaystyle f_{ri}=\\frac{f_i}{\\sum_{j}f_j} $ onde n representa o número total de observações.\n",
    "\n",
    "**Frequência percentual (pi):** É obtida multiplicando a frequência relativa por 100%.<br><br>"
   ]
  },
  {
   "cell_type": "code",
   "execution_count": null,
   "id": "34ece879",
   "metadata": {
    "ExecuteTime": {
     "end_time": "2023-02-24T18:47:40.429103Z",
     "start_time": "2023-02-24T18:47:40.354254Z"
    },
    "scrolled": true
   },
   "outputs": [],
   "source": []
  },
  {
   "cell_type": "code",
   "execution_count": null,
   "id": "9f216e85",
   "metadata": {
    "ExecuteTime": {
     "end_time": "2023-02-24T18:47:41.929092Z",
     "start_time": "2023-02-24T18:47:41.920118Z"
    }
   },
   "outputs": [],
   "source": []
  },
  {
   "cell_type": "code",
   "execution_count": null,
   "id": "91164358",
   "metadata": {
    "ExecuteTime": {
     "end_time": "2023-02-24T18:48:00.474579Z",
     "start_time": "2023-02-24T18:48:00.460556Z"
    }
   },
   "outputs": [],
   "source": []
  },
  {
   "cell_type": "code",
   "execution_count": null,
   "id": "8d8f7c58",
   "metadata": {
    "ExecuteTime": {
     "end_time": "2023-02-24T18:48:19.396866Z",
     "start_time": "2023-02-24T18:48:19.379912Z"
    }
   },
   "outputs": [],
   "source": []
  },
  {
   "cell_type": "code",
   "execution_count": null,
   "id": "cc69dd94",
   "metadata": {
    "ExecuteTime": {
     "end_time": "2023-02-24T18:48:32.229002Z",
     "start_time": "2023-02-24T18:48:32.202042Z"
    }
   },
   "outputs": [],
   "source": []
  },
  {
   "cell_type": "code",
   "execution_count": null,
   "id": "0d845141",
   "metadata": {
    "ExecuteTime": {
     "end_time": "2023-02-24T18:48:40.613140Z",
     "start_time": "2023-02-24T18:48:40.597143Z"
    }
   },
   "outputs": [],
   "source": []
  },
  {
   "cell_type": "code",
   "execution_count": null,
   "id": "b16fc929",
   "metadata": {
    "ExecuteTime": {
     "end_time": "2023-02-24T18:48:43.492639Z",
     "start_time": "2023-02-24T18:48:43.477676Z"
    },
    "scrolled": true
   },
   "outputs": [],
   "source": []
  },
  {
   "cell_type": "code",
   "execution_count": null,
   "id": "48f1ecbc",
   "metadata": {
    "ExecuteTime": {
     "end_time": "2023-02-24T18:51:18.020697Z",
     "start_time": "2023-02-24T18:51:18.008728Z"
    }
   },
   "outputs": [],
   "source": []
  },
  {
   "cell_type": "code",
   "execution_count": null,
   "id": "0ce70954",
   "metadata": {
    "ExecuteTime": {
     "end_time": "2023-02-24T18:51:38.829636Z",
     "start_time": "2023-02-24T18:51:38.306785Z"
    }
   },
   "outputs": [],
   "source": []
  },
  {
   "cell_type": "code",
   "execution_count": null,
   "id": "46d64568",
   "metadata": {
    "ExecuteTime": {
     "end_time": "2023-02-24T18:51:46.329930Z",
     "start_time": "2023-02-24T18:51:46.118446Z"
    }
   },
   "outputs": [],
   "source": []
  },
  {
   "cell_type": "code",
   "execution_count": null,
   "id": "9efd13d5",
   "metadata": {
    "ExecuteTime": {
     "end_time": "2023-02-24T18:51:55.718416Z",
     "start_time": "2023-02-24T18:51:55.617897Z"
    }
   },
   "outputs": [],
   "source": []
  },
  {
   "cell_type": "code",
   "execution_count": null,
   "id": "8d66f179",
   "metadata": {
    "ExecuteTime": {
     "end_time": "2023-02-24T18:52:00.462100Z",
     "start_time": "2023-02-24T18:52:00.330150Z"
    }
   },
   "outputs": [],
   "source": []
  },
  {
   "cell_type": "code",
   "execution_count": null,
   "id": "dafb2eed",
   "metadata": {
    "ExecuteTime": {
     "end_time": "2023-02-24T18:52:04.401023Z",
     "start_time": "2023-02-24T18:52:04.247428Z"
    }
   },
   "outputs": [],
   "source": []
  },
  {
   "cell_type": "code",
   "execution_count": null,
   "id": "5d9d6884",
   "metadata": {
    "ExecuteTime": {
     "end_time": "2023-02-24T18:52:08.947308Z",
     "start_time": "2023-02-24T18:52:08.781703Z"
    }
   },
   "outputs": [],
   "source": []
  },
  {
   "cell_type": "markdown",
   "id": "add6b938",
   "metadata": {},
   "source": [
    "## "
   ]
  },
  {
   "cell_type": "markdown",
   "id": "85115532",
   "metadata": {},
   "source": [
    "## Exercícios"
   ]
  },
  {
   "cell_type": "markdown",
   "id": "e8c69f15",
   "metadata": {},
   "source": [
    "__1)__ Façam a análise exploratória sobre a base de dados _mpg_, levante eventuais _outliers_, olhe para a consistência de dados e crie visualizações que achar necessárias.<br><br>"
   ]
  },
  {
   "cell_type": "code",
   "execution_count": 16,
   "id": "e1cdb681",
   "metadata": {
    "ExecuteTime": {
     "end_time": "2023-04-29T00:04:43.144644Z",
     "start_time": "2023-04-29T00:04:43.108905Z"
    },
    "scrolled": false
   },
   "outputs": [
    {
     "data": {
      "text/html": [
       "<div>\n",
       "<style scoped>\n",
       "    .dataframe tbody tr th:only-of-type {\n",
       "        vertical-align: middle;\n",
       "    }\n",
       "\n",
       "    .dataframe tbody tr th {\n",
       "        vertical-align: top;\n",
       "    }\n",
       "\n",
       "    .dataframe thead th {\n",
       "        text-align: right;\n",
       "    }\n",
       "</style>\n",
       "<table border=\"1\" class=\"dataframe\">\n",
       "  <thead>\n",
       "    <tr style=\"text-align: right;\">\n",
       "      <th></th>\n",
       "      <th>mpg</th>\n",
       "      <th>cylinders</th>\n",
       "      <th>displacement</th>\n",
       "      <th>horsepower</th>\n",
       "      <th>weight</th>\n",
       "      <th>acceleration</th>\n",
       "      <th>model_year</th>\n",
       "      <th>origin</th>\n",
       "      <th>name</th>\n",
       "    </tr>\n",
       "  </thead>\n",
       "  <tbody>\n",
       "    <tr>\n",
       "      <th>0</th>\n",
       "      <td>18.0</td>\n",
       "      <td>8</td>\n",
       "      <td>307.0</td>\n",
       "      <td>130.0</td>\n",
       "      <td>3504</td>\n",
       "      <td>12.0</td>\n",
       "      <td>70</td>\n",
       "      <td>usa</td>\n",
       "      <td>chevrolet chevelle malibu</td>\n",
       "    </tr>\n",
       "    <tr>\n",
       "      <th>1</th>\n",
       "      <td>15.0</td>\n",
       "      <td>8</td>\n",
       "      <td>350.0</td>\n",
       "      <td>165.0</td>\n",
       "      <td>3693</td>\n",
       "      <td>11.5</td>\n",
       "      <td>70</td>\n",
       "      <td>usa</td>\n",
       "      <td>buick skylark 320</td>\n",
       "    </tr>\n",
       "    <tr>\n",
       "      <th>2</th>\n",
       "      <td>18.0</td>\n",
       "      <td>8</td>\n",
       "      <td>318.0</td>\n",
       "      <td>150.0</td>\n",
       "      <td>3436</td>\n",
       "      <td>11.0</td>\n",
       "      <td>70</td>\n",
       "      <td>usa</td>\n",
       "      <td>plymouth satellite</td>\n",
       "    </tr>\n",
       "    <tr>\n",
       "      <th>3</th>\n",
       "      <td>16.0</td>\n",
       "      <td>8</td>\n",
       "      <td>304.0</td>\n",
       "      <td>150.0</td>\n",
       "      <td>3433</td>\n",
       "      <td>12.0</td>\n",
       "      <td>70</td>\n",
       "      <td>usa</td>\n",
       "      <td>amc rebel sst</td>\n",
       "    </tr>\n",
       "    <tr>\n",
       "      <th>4</th>\n",
       "      <td>17.0</td>\n",
       "      <td>8</td>\n",
       "      <td>302.0</td>\n",
       "      <td>140.0</td>\n",
       "      <td>3449</td>\n",
       "      <td>10.5</td>\n",
       "      <td>70</td>\n",
       "      <td>usa</td>\n",
       "      <td>ford torino</td>\n",
       "    </tr>\n",
       "    <tr>\n",
       "      <th>...</th>\n",
       "      <td>...</td>\n",
       "      <td>...</td>\n",
       "      <td>...</td>\n",
       "      <td>...</td>\n",
       "      <td>...</td>\n",
       "      <td>...</td>\n",
       "      <td>...</td>\n",
       "      <td>...</td>\n",
       "      <td>...</td>\n",
       "    </tr>\n",
       "    <tr>\n",
       "      <th>393</th>\n",
       "      <td>27.0</td>\n",
       "      <td>4</td>\n",
       "      <td>140.0</td>\n",
       "      <td>86.0</td>\n",
       "      <td>2790</td>\n",
       "      <td>15.6</td>\n",
       "      <td>82</td>\n",
       "      <td>usa</td>\n",
       "      <td>ford mustang gl</td>\n",
       "    </tr>\n",
       "    <tr>\n",
       "      <th>394</th>\n",
       "      <td>44.0</td>\n",
       "      <td>4</td>\n",
       "      <td>97.0</td>\n",
       "      <td>52.0</td>\n",
       "      <td>2130</td>\n",
       "      <td>24.6</td>\n",
       "      <td>82</td>\n",
       "      <td>europe</td>\n",
       "      <td>vw pickup</td>\n",
       "    </tr>\n",
       "    <tr>\n",
       "      <th>395</th>\n",
       "      <td>32.0</td>\n",
       "      <td>4</td>\n",
       "      <td>135.0</td>\n",
       "      <td>84.0</td>\n",
       "      <td>2295</td>\n",
       "      <td>11.6</td>\n",
       "      <td>82</td>\n",
       "      <td>usa</td>\n",
       "      <td>dodge rampage</td>\n",
       "    </tr>\n",
       "    <tr>\n",
       "      <th>396</th>\n",
       "      <td>28.0</td>\n",
       "      <td>4</td>\n",
       "      <td>120.0</td>\n",
       "      <td>79.0</td>\n",
       "      <td>2625</td>\n",
       "      <td>18.6</td>\n",
       "      <td>82</td>\n",
       "      <td>usa</td>\n",
       "      <td>ford ranger</td>\n",
       "    </tr>\n",
       "    <tr>\n",
       "      <th>397</th>\n",
       "      <td>31.0</td>\n",
       "      <td>4</td>\n",
       "      <td>119.0</td>\n",
       "      <td>82.0</td>\n",
       "      <td>2720</td>\n",
       "      <td>19.4</td>\n",
       "      <td>82</td>\n",
       "      <td>usa</td>\n",
       "      <td>chevy s-10</td>\n",
       "    </tr>\n",
       "  </tbody>\n",
       "</table>\n",
       "<p>398 rows × 9 columns</p>\n",
       "</div>"
      ],
      "text/plain": [
       "      mpg  cylinders  displacement  horsepower  weight  acceleration  \\\n",
       "0    18.0          8         307.0       130.0    3504          12.0   \n",
       "1    15.0          8         350.0       165.0    3693          11.5   \n",
       "2    18.0          8         318.0       150.0    3436          11.0   \n",
       "3    16.0          8         304.0       150.0    3433          12.0   \n",
       "4    17.0          8         302.0       140.0    3449          10.5   \n",
       "..    ...        ...           ...         ...     ...           ...   \n",
       "393  27.0          4         140.0        86.0    2790          15.6   \n",
       "394  44.0          4          97.0        52.0    2130          24.6   \n",
       "395  32.0          4         135.0        84.0    2295          11.6   \n",
       "396  28.0          4         120.0        79.0    2625          18.6   \n",
       "397  31.0          4         119.0        82.0    2720          19.4   \n",
       "\n",
       "     model_year  origin                       name  \n",
       "0            70     usa  chevrolet chevelle malibu  \n",
       "1            70     usa          buick skylark 320  \n",
       "2            70     usa         plymouth satellite  \n",
       "3            70     usa              amc rebel sst  \n",
       "4            70     usa                ford torino  \n",
       "..          ...     ...                        ...  \n",
       "393          82     usa            ford mustang gl  \n",
       "394          82  europe                  vw pickup  \n",
       "395          82     usa              dodge rampage  \n",
       "396          82     usa                ford ranger  \n",
       "397          82     usa                 chevy s-10  \n",
       "\n",
       "[398 rows x 9 columns]"
      ]
     },
     "execution_count": 16,
     "metadata": {},
     "output_type": "execute_result"
    }
   ],
   "source": [
    "mpg = sns.load_dataset('mpg')\n",
    "\n",
    "mpg"
   ]
  },
  {
   "cell_type": "code",
   "execution_count": 17,
   "id": "9f4a6876",
   "metadata": {
    "ExecuteTime": {
     "end_time": "2023-04-29T00:05:42.031328Z",
     "start_time": "2023-04-29T00:05:42.016292Z"
    }
   },
   "outputs": [
    {
     "data": {
      "text/plain": [
       "23.514572864321607"
      ]
     },
     "execution_count": 17,
     "metadata": {},
     "output_type": "execute_result"
    }
   ],
   "source": [
    "mpg['mpg'].mean()"
   ]
  },
  {
   "cell_type": "code",
   "execution_count": 18,
   "id": "f0f099b4",
   "metadata": {
    "ExecuteTime": {
     "end_time": "2023-04-29T00:06:22.355126Z",
     "start_time": "2023-04-29T00:06:22.343215Z"
    }
   },
   "outputs": [
    {
     "data": {
      "text/plain": [
       "23.0"
      ]
     },
     "execution_count": 18,
     "metadata": {},
     "output_type": "execute_result"
    }
   ],
   "source": [
    "mpg['mpg'].median()"
   ]
  },
  {
   "cell_type": "code",
   "execution_count": 19,
   "id": "0054c2d2",
   "metadata": {
    "ExecuteTime": {
     "end_time": "2023-04-29T00:07:16.646912Z",
     "start_time": "2023-04-29T00:07:16.597180Z"
    }
   },
   "outputs": [
    {
     "data": {
      "text/html": [
       "<div>\n",
       "<style scoped>\n",
       "    .dataframe tbody tr th:only-of-type {\n",
       "        vertical-align: middle;\n",
       "    }\n",
       "\n",
       "    .dataframe tbody tr th {\n",
       "        vertical-align: top;\n",
       "    }\n",
       "\n",
       "    .dataframe thead th {\n",
       "        text-align: right;\n",
       "    }\n",
       "</style>\n",
       "<table border=\"1\" class=\"dataframe\">\n",
       "  <thead>\n",
       "    <tr style=\"text-align: right;\">\n",
       "      <th></th>\n",
       "      <th>mpg</th>\n",
       "      <th>cylinders</th>\n",
       "      <th>displacement</th>\n",
       "      <th>horsepower</th>\n",
       "      <th>weight</th>\n",
       "      <th>acceleration</th>\n",
       "      <th>model_year</th>\n",
       "    </tr>\n",
       "  </thead>\n",
       "  <tbody>\n",
       "    <tr>\n",
       "      <th>count</th>\n",
       "      <td>398.000000</td>\n",
       "      <td>398.000000</td>\n",
       "      <td>398.000000</td>\n",
       "      <td>392.000000</td>\n",
       "      <td>398.000000</td>\n",
       "      <td>398.000000</td>\n",
       "      <td>398.000000</td>\n",
       "    </tr>\n",
       "    <tr>\n",
       "      <th>mean</th>\n",
       "      <td>23.514573</td>\n",
       "      <td>5.454774</td>\n",
       "      <td>193.425879</td>\n",
       "      <td>104.469388</td>\n",
       "      <td>2970.424623</td>\n",
       "      <td>15.568090</td>\n",
       "      <td>76.010050</td>\n",
       "    </tr>\n",
       "    <tr>\n",
       "      <th>std</th>\n",
       "      <td>7.815984</td>\n",
       "      <td>1.701004</td>\n",
       "      <td>104.269838</td>\n",
       "      <td>38.491160</td>\n",
       "      <td>846.841774</td>\n",
       "      <td>2.757689</td>\n",
       "      <td>3.697627</td>\n",
       "    </tr>\n",
       "    <tr>\n",
       "      <th>min</th>\n",
       "      <td>9.000000</td>\n",
       "      <td>3.000000</td>\n",
       "      <td>68.000000</td>\n",
       "      <td>46.000000</td>\n",
       "      <td>1613.000000</td>\n",
       "      <td>8.000000</td>\n",
       "      <td>70.000000</td>\n",
       "    </tr>\n",
       "    <tr>\n",
       "      <th>25%</th>\n",
       "      <td>17.500000</td>\n",
       "      <td>4.000000</td>\n",
       "      <td>104.250000</td>\n",
       "      <td>75.000000</td>\n",
       "      <td>2223.750000</td>\n",
       "      <td>13.825000</td>\n",
       "      <td>73.000000</td>\n",
       "    </tr>\n",
       "    <tr>\n",
       "      <th>50%</th>\n",
       "      <td>23.000000</td>\n",
       "      <td>4.000000</td>\n",
       "      <td>148.500000</td>\n",
       "      <td>93.500000</td>\n",
       "      <td>2803.500000</td>\n",
       "      <td>15.500000</td>\n",
       "      <td>76.000000</td>\n",
       "    </tr>\n",
       "    <tr>\n",
       "      <th>75%</th>\n",
       "      <td>29.000000</td>\n",
       "      <td>8.000000</td>\n",
       "      <td>262.000000</td>\n",
       "      <td>126.000000</td>\n",
       "      <td>3608.000000</td>\n",
       "      <td>17.175000</td>\n",
       "      <td>79.000000</td>\n",
       "    </tr>\n",
       "    <tr>\n",
       "      <th>max</th>\n",
       "      <td>46.600000</td>\n",
       "      <td>8.000000</td>\n",
       "      <td>455.000000</td>\n",
       "      <td>230.000000</td>\n",
       "      <td>5140.000000</td>\n",
       "      <td>24.800000</td>\n",
       "      <td>82.000000</td>\n",
       "    </tr>\n",
       "  </tbody>\n",
       "</table>\n",
       "</div>"
      ],
      "text/plain": [
       "              mpg   cylinders  displacement  horsepower       weight  \\\n",
       "count  398.000000  398.000000    398.000000  392.000000   398.000000   \n",
       "mean    23.514573    5.454774    193.425879  104.469388  2970.424623   \n",
       "std      7.815984    1.701004    104.269838   38.491160   846.841774   \n",
       "min      9.000000    3.000000     68.000000   46.000000  1613.000000   \n",
       "25%     17.500000    4.000000    104.250000   75.000000  2223.750000   \n",
       "50%     23.000000    4.000000    148.500000   93.500000  2803.500000   \n",
       "75%     29.000000    8.000000    262.000000  126.000000  3608.000000   \n",
       "max     46.600000    8.000000    455.000000  230.000000  5140.000000   \n",
       "\n",
       "       acceleration  model_year  \n",
       "count    398.000000  398.000000  \n",
       "mean      15.568090   76.010050  \n",
       "std        2.757689    3.697627  \n",
       "min        8.000000   70.000000  \n",
       "25%       13.825000   73.000000  \n",
       "50%       15.500000   76.000000  \n",
       "75%       17.175000   79.000000  \n",
       "max       24.800000   82.000000  "
      ]
     },
     "execution_count": 19,
     "metadata": {},
     "output_type": "execute_result"
    }
   ],
   "source": [
    "mpg.describe()"
   ]
  },
  {
   "cell_type": "code",
   "execution_count": 20,
   "id": "38c226fc",
   "metadata": {
    "ExecuteTime": {
     "end_time": "2023-04-29T00:07:41.095146Z",
     "start_time": "2023-04-29T00:07:41.073222Z"
    }
   },
   "outputs": [
    {
     "data": {
      "text/html": [
       "<div>\n",
       "<style scoped>\n",
       "    .dataframe tbody tr th:only-of-type {\n",
       "        vertical-align: middle;\n",
       "    }\n",
       "\n",
       "    .dataframe tbody tr th {\n",
       "        vertical-align: top;\n",
       "    }\n",
       "\n",
       "    .dataframe thead th {\n",
       "        text-align: right;\n",
       "    }\n",
       "</style>\n",
       "<table border=\"1\" class=\"dataframe\">\n",
       "  <thead>\n",
       "    <tr style=\"text-align: right;\">\n",
       "      <th></th>\n",
       "      <th>origin</th>\n",
       "      <th>name</th>\n",
       "    </tr>\n",
       "  </thead>\n",
       "  <tbody>\n",
       "    <tr>\n",
       "      <th>count</th>\n",
       "      <td>398</td>\n",
       "      <td>398</td>\n",
       "    </tr>\n",
       "    <tr>\n",
       "      <th>unique</th>\n",
       "      <td>3</td>\n",
       "      <td>305</td>\n",
       "    </tr>\n",
       "    <tr>\n",
       "      <th>top</th>\n",
       "      <td>usa</td>\n",
       "      <td>ford pinto</td>\n",
       "    </tr>\n",
       "    <tr>\n",
       "      <th>freq</th>\n",
       "      <td>249</td>\n",
       "      <td>6</td>\n",
       "    </tr>\n",
       "  </tbody>\n",
       "</table>\n",
       "</div>"
      ],
      "text/plain": [
       "       origin        name\n",
       "count     398         398\n",
       "unique      3         305\n",
       "top       usa  ford pinto\n",
       "freq      249           6"
      ]
     },
     "execution_count": 20,
     "metadata": {},
     "output_type": "execute_result"
    }
   ],
   "source": [
    "mpg.describe(include='O')"
   ]
  },
  {
   "cell_type": "code",
   "execution_count": 21,
   "id": "0f17aeab",
   "metadata": {
    "ExecuteTime": {
     "end_time": "2023-04-29T00:08:48.758167Z",
     "start_time": "2023-04-29T00:08:48.736999Z"
    }
   },
   "outputs": [
    {
     "data": {
      "text/plain": [
       "mpg             0\n",
       "cylinders       0\n",
       "displacement    0\n",
       "horsepower      6\n",
       "weight          0\n",
       "acceleration    0\n",
       "model_year      0\n",
       "origin          0\n",
       "name            0\n",
       "dtype: int64"
      ]
     },
     "execution_count": 21,
     "metadata": {},
     "output_type": "execute_result"
    }
   ],
   "source": [
    "mpg.isna().sum()"
   ]
  },
  {
   "cell_type": "code",
   "execution_count": 24,
   "id": "66175e05",
   "metadata": {
    "ExecuteTime": {
     "end_time": "2023-04-29T00:09:43.279841Z",
     "start_time": "2023-04-29T00:09:43.261584Z"
    }
   },
   "outputs": [
    {
     "data": {
      "text/plain": [
       "usa       62.562814\n",
       "japan     19.849246\n",
       "europe    17.587940\n",
       "Name: origin, dtype: float64"
      ]
     },
     "execution_count": 24,
     "metadata": {},
     "output_type": "execute_result"
    }
   ],
   "source": [
    "mpg.origin.value_counts(normalize=True)*100"
   ]
  },
  {
   "cell_type": "markdown",
   "id": "5890f9bc",
   "metadata": {},
   "source": [
    "## "
   ]
  }
 ],
 "metadata": {
  "kernelspec": {
   "display_name": "Python 3 (ipykernel)",
   "language": "python",
   "name": "python3"
  },
  "language_info": {
   "codemirror_mode": {
    "name": "ipython",
    "version": 3
   },
   "file_extension": ".py",
   "mimetype": "text/x-python",
   "name": "python",
   "nbconvert_exporter": "python",
   "pygments_lexer": "ipython3",
   "version": "3.10.9"
  },
  "varInspector": {
   "cols": {
    "lenName": 16,
    "lenType": 16,
    "lenVar": 40
   },
   "kernels_config": {
    "python": {
     "delete_cmd_postfix": "",
     "delete_cmd_prefix": "del ",
     "library": "var_list.py",
     "varRefreshCmd": "print(var_dic_list())"
    },
    "r": {
     "delete_cmd_postfix": ") ",
     "delete_cmd_prefix": "rm(",
     "library": "var_list.r",
     "varRefreshCmd": "cat(var_dic_list()) "
    }
   },
   "types_to_exclude": [
    "module",
    "function",
    "builtin_function_or_method",
    "instance",
    "_Feature"
   ],
   "window_display": false
  }
 },
 "nbformat": 4,
 "nbformat_minor": 5
}
