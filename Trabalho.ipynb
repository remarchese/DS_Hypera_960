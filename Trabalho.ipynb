{
 "cells": [
  {
   "cell_type": "markdown",
   "id": "b128197a",
   "metadata": {},
   "source": [
    "# Trabalho\n",
    "\n",
    "Integrantes do grupo\n",
    "\n",
    "\n",
    "1. Entender o problema (objetivo) \n",
    "\n",
    "2. Entender os dados (usar a estatística para isso)\n",
    "\n",
    "    - Descrever as colunas\n",
    "    - Tem dado faltante?\n",
    "    - Quantas colunas numéricas (quantitativas) e quantas categóricas (qualitativas)? Classifique\n",
    "    - Calcular média, mediana, desvio padrão, quartis, percentis, assimetria, moda, correlação\n",
    "    - Identificar os outliers\n",
    "    - Criar gráficos para fazer a visualização dos dados\n",
    "\n",
    "3. Limpar os dados (preparar os dados)\n",
    "\n",
    "4. Escolher uma coluna para analisar a data (datetime)\n",
    "\n",
    "5. Conclusão sobre os dados"
   ]
  },
  {
   "cell_type": "markdown",
   "id": "02f327e5",
   "metadata": {},
   "source": [
    "# Entrega dia 22/05\n",
    "\n",
    "Enviar link do github pelo class ou enviar o notebook pelo class.\n",
    "\n",
    "Qualquer dúvida: renata.marchese@ada.tech"
   ]
  },
  {
   "cell_type": "code",
   "execution_count": null,
   "id": "fea3dbd0",
   "metadata": {},
   "outputs": [],
   "source": []
  }
 ],
 "metadata": {
  "kernelspec": {
   "display_name": "Python 3 (ipykernel)",
   "language": "python",
   "name": "python3"
  },
  "language_info": {
   "codemirror_mode": {
    "name": "ipython",
    "version": 3
   },
   "file_extension": ".py",
   "mimetype": "text/x-python",
   "name": "python",
   "nbconvert_exporter": "python",
   "pygments_lexer": "ipython3",
   "version": "3.10.9"
  },
  "varInspector": {
   "cols": {
    "lenName": 16,
    "lenType": 16,
    "lenVar": 40
   },
   "kernels_config": {
    "python": {
     "delete_cmd_postfix": "",
     "delete_cmd_prefix": "del ",
     "library": "var_list.py",
     "varRefreshCmd": "print(var_dic_list())"
    },
    "r": {
     "delete_cmd_postfix": ") ",
     "delete_cmd_prefix": "rm(",
     "library": "var_list.r",
     "varRefreshCmd": "cat(var_dic_list()) "
    }
   },
   "types_to_exclude": [
    "module",
    "function",
    "builtin_function_or_method",
    "instance",
    "_Feature"
   ],
   "window_display": false
  }
 },
 "nbformat": 4,
 "nbformat_minor": 5
}
