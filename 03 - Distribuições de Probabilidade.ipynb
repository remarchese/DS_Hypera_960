{
 "cells": [
  {
   "attachments": {},
   "cell_type": "markdown",
   "id": "948dcd6e",
   "metadata": {},
   "source": [
    "# 03 - Distribuições de Probabilidade\n",
    "\n",
    "Nessa aula, iremos tratar dos seguintes conteúdos:\n",
    "- Tipos de Variáveis Aleatórias\n",
    "- Esperança e Variância\n",
    "- Distribuição de Probabilidade\n",
    "- Distribuição - Bernoulli e Binomial\n",
    "- Distribuição Poisson\n",
    "- Distribuição Exponencial\n",
    "- Distribuição Uniforme"
   ]
  },
  {
   "attachments": {},
   "cell_type": "markdown",
   "id": "050eb5b9",
   "metadata": {},
   "source": [
    "<img src = \"https://miro.medium.com/max/450/1*FSuKbxt4bLeqTrlbhg3hQQ.gif\">"
   ]
  },
  {
   "attachments": {},
   "cell_type": "markdown",
   "id": "c037c5b5",
   "metadata": {},
   "source": [
    "<img src = \"http://storage.ning.com/topology/rest/1.0/file/get/1490420457?profile=original\" width=800>"
   ]
  },
  {
   "attachments": {},
   "cell_type": "markdown",
   "id": "5d12324b",
   "metadata": {},
   "source": [
    "## "
   ]
  },
  {
   "cell_type": "code",
   "execution_count": 1,
   "id": "bddc08b0",
   "metadata": {},
   "outputs": [],
   "source": [
    "import pandas as pd\n",
    "import numpy as np\n",
    "import matplotlib.pyplot as plt\n",
    "import seaborn as sns"
   ]
  },
  {
   "attachments": {},
   "cell_type": "markdown",
   "id": "b2265f1a",
   "metadata": {},
   "source": [
    "## Tipos de Variáveis Aleatórias\n",
    "\n",
    "\n",
    "<br>\n",
    "\n",
    "Vimos que uma __variável aleatória__ é uma variável cujo valor depende de fatores não determinísticos, ou melhor dizendo __probabilísticos__. Detalhando um pouco mais sobre as variáveis aleatórias, existem dois tipos mais comuns que vamos trabalhar no nosso curso, sendo elas:\n",
    "\n",
    "- __Discreta:__ são as variáveis aleatórias que a distribuição de probabilidade assume apenas valores enumeráveis;\n",
    "\n",
    "- __Contínua:__ são as variáveis aleatórias que a distribuição de probabilidade assume valores contínuos dentro de um intervalo pré-determinado.\n",
    "\n",
    "Mas para realmente entendermos a diferença entre cada uma delas, precisamos definir o que são __distribuições de probabilidade__."
   ]
  },
  {
   "attachments": {},
   "cell_type": "markdown",
   "id": "9c945135",
   "metadata": {},
   "source": [
    "## "
   ]
  },
  {
   "attachments": {},
   "cell_type": "markdown",
   "id": "81d9f9d7",
   "metadata": {},
   "source": [
    "## Distribuições de Probabilidade\n",
    "\n",
    "<br>\n",
    "\n",
    "Uma **distribuição de probabilidade** é uma função que descreve o comportamento aleatório de um fenômeno dependente do acaso.\n",
    "\n",
    "A distribuição de probabilidade pode **modelar incertezas** e descrever fenômenos físicos, biológicos, econômicos, entre outros.\n",
    "\n",
    "A representação matemática para a distribuição de probabilidade é feita utilizando o que chamamos de __função de densidade de probabilidade__. Para cada um dos casos de variáveis aleatórias temos uma definição de densidade de probabilidade, conforme veremos agora:\n",
    "\n",
    "- __Discretas:__ Para o caso das variáveis aleatórias discretas a definição matemática para a função de densidade de probabilidade, pode ser dada da seguinte forma:\n",
    "\n",
    "$$ P(X = x) = F(X) $$\n",
    "\n",
    "Ou seja, para o caso discreto, a variável aleatória assume é uma função que assume um valor real para cada elemento do espaço amostral. Partir das definições gerais para probabilidade, são conhecidas as seguintes são sempre válidas:\n",
    "\n",
    "- $ 0 \\leq P(X = x) \\leq 1 $;\n",
    "\n",
    "<br>\n",
    "\n",
    "- $ P(X = x) \\geq 0 $;\n",
    "\n",
    "<br>\n",
    "\n",
    "- $ \\sum_{i=1}^{\\infty} P(X = x_{i}) = 1 $ ;\n",
    "\n",
    "<br>\n",
    "\n",
    "- $ P(a \\leq X \\leq b) = \\sum_{x = a}^{x = b} P(X = x)$;"
   ]
  },
  {
   "attachments": {},
   "cell_type": "markdown",
   "id": "ea61d446",
   "metadata": {},
   "source": [
    "## "
   ]
  },
  {
   "attachments": {},
   "cell_type": "markdown",
   "id": "644febd0",
   "metadata": {},
   "source": [
    "- __Contínuas:__ Para o caso das variáveis aleatórias contínuas a definição matemática para a função de densidade de probabilidade, pode ser dada da seguinte forma:\n",
    "\n",
    "$$ P(X) = \\int p(x) \\,dx $$\n",
    "\n",
    "Da mesma forma que para o caso discreto, vamos definir algumas relações conhecidas as v. a. contínuas:\n",
    "\n",
    "- $ p(x) \\geq 0, \\forall x \\in \\mathbb{R}$;\n",
    "\n",
    "<br>\n",
    "\n",
    "- $ \\int_{-\\infty}^{\\infty} p(x) \\,dx = 1 $ ;\n",
    "\n",
    "<br>\n",
    "\n",
    "- $ P(a \\leq X \\leq b) = \\int_{a}^{b} p(x) \\,dx$;\n",
    "\n",
    "<br>\n",
    "\n",
    "Uma outra forma de interpretarmos a probabilidade de uma dada distribuição entre o intervalo $a$ e $b$, seria como a área abaixo ao gráfico da função de densidade de probabilidade:\n",
    "\n",
    "<img src=\"https://work.thaslwanter.at/Stats/html/_images/PDF.png\" width=400>\n"
   ]
  },
  {
   "attachments": {},
   "cell_type": "markdown",
   "id": "9e47011b",
   "metadata": {},
   "source": [
    "## "
   ]
  },
  {
   "attachments": {},
   "cell_type": "markdown",
   "id": "afd4c286",
   "metadata": {},
   "source": [
    "## Valor Esperado (Esperança) e Variância\n",
    "\n",
    "<br>\n",
    "\n",
    "Assim como no caso da Estatística Descritiva, no casos de modelos probabilísticos também existem parâmetros de posição e variabilidade utilizada para caracterizar uma distribuição de probabilidade:\n",
    "\n",
    "- __Valor Esperado (Esperança):__ O valor esperado seria o produto da variável aleatória $x$ e sua respectiva probabilidade, funcionando como se fosse uma média ponderada para as probabilidades. O cálculo do valor esperado é definido da seguinte forma:\n",
    "\n",
    "\n",
    "__Caso Discreto:__  $ E[X] = \\sum xP(X = x) $\n",
    "\n",
    "\n",
    "__Caso Contínuo:__  $ E[X] = \\int xp(x) dx $\n",
    "\n",
    "<br><br>\n",
    "\n",
    "- __Variância:__ A variância é o valor que mede a variabilidade, ou seja o quão dispersão estão as probabilidade em relação ao valor esperado. A variância é definida da seguinte forma:\n",
    "\n",
    "<br>\n",
    "\n",
    "$$ V[X] = \\sigma^{2} = E[(X - E[X])^2] = E[X^2] - E[X]^2$$\n",
    "\n",
    "<br>\n",
    "Onde, $ E[X^2] = \\sum x^2P(X = x)$."
   ]
  },
  {
   "attachments": {},
   "cell_type": "markdown",
   "id": "4ca44d14",
   "metadata": {},
   "source": [
    "__Exemplo:__ Seja a variável aleatória X com distribuição abaixo, calcule $E[X]$ e $V[X]$:\n",
    " \n",
    "- P(X = 1) = 0.3\n",
    "- P(X = 2) = 0.4\n",
    "- P(X = 3) = 0.2 \n",
    "- P(X = 4) = 0.1"
   ]
  },
  {
   "cell_type": "code",
   "execution_count": 2,
   "id": "7e99cd46",
   "metadata": {},
   "outputs": [
    {
     "name": "stdout",
     "output_type": "stream",
     "text": [
      "Valor esperado:  2.1\n",
      "Variância:       0.89\n"
     ]
    }
   ],
   "source": []
  },
  {
   "attachments": {},
   "cell_type": "markdown",
   "id": "efd9edc5",
   "metadata": {},
   "source": [
    "__Exemplo:__ A variável X tem função de densidade de probabilidade dada por:\n",
    "\n",
    "- $f(x) = \\frac{x^2}{3}$, se $ -1 \\leq x \\leq 2$, caso contrário seria 0."
   ]
  },
  {
   "cell_type": "code",
   "execution_count": 4,
   "id": "a916ced9",
   "metadata": {},
   "outputs": [
    {
     "name": "stdout",
     "output_type": "stream",
     "text": [
      "Valor Esperado:  1.25\n",
      "Erro da Integral:  1.5728145305099745e-14\n",
      "Variância:       0.6375000000000002\n",
      "Erro da Integral:  2.4424906541753447e-14\n"
     ]
    }
   ],
   "source": []
  },
  {
   "attachments": {},
   "cell_type": "markdown",
   "id": "f02e294e",
   "metadata": {},
   "source": [
    "## "
   ]
  },
  {
   "attachments": {},
   "cell_type": "markdown",
   "id": "516ffd12",
   "metadata": {},
   "source": [
    "## Distribuições\n",
    "\n",
    "Nos próximos tópicos, vamos apresentar algumas das principais distribuições utilizadas!"
   ]
  },
  {
   "attachments": {},
   "cell_type": "markdown",
   "id": "0e767ff6",
   "metadata": {},
   "source": [
    "## "
   ]
  },
  {
   "attachments": {},
   "cell_type": "markdown",
   "id": "549ff76a",
   "metadata": {},
   "source": [
    "## Distribuição de Bernoulli/Binomial\n",
    "\n",
    "A distribuição de Bernoulli  é uma distribuição discreta para um espaço amostral $k \\in \\{0, 1\\}$, baseando a probabilidade em __sucessos__ e __falhas__. Onde a probabilidade de sucesso de um evento ($k = 1$) é igual a $p$ e a probabilidade de falha ($k = 0$) seria o valor complementar $1 - p$. A função que descreve a distribuição de Bernoulli pode ser definida como:\n",
    "\n",
    "<br>\n",
    "\n",
    "$$ P(X = k) = p^{k}(1-p)^{(1-k)} $$\n",
    "\n",
    "<br>\n",
    "Os valores para o valor esperado e a variância para a distribuição de Bernoulli serão respectivamente:\n",
    "\n",
    "- __Valor Esperado:__ $ E[X] = p $;\n",
    "\n",
    "- __Variância:__ $ V[X] = p(1-p)$.\n",
    "\n",
    "<br>\n",
    "\n",
    "Mas o caso da distribuição de Bernoulli, tratamos apenas para um evento isolado, como por exemplo o lançamento de uma moeda. Quando trabalhamos com eventos __com repetições__, utiliza-se o caso geral da distribuição de Bernoulli que seria uma __Distribuição Binomial.__\n"
   ]
  },
  {
   "attachments": {},
   "cell_type": "markdown",
   "id": "82bee09e",
   "metadata": {},
   "source": [
    "### Distribuição Binomial\n",
    "\n",
    "Seja a variável aleatória baseado em $n$ repetições de Bernoulli, temos que a definição da distribuição Binomial é dada por:\n",
    "\n",
    "$$ P(X = k) = \\binom{n}{k}p^{k}(1-p)^{(n-k)} = \\frac{n!}{k!(n - k)!}p^{k}(1-p)^{(n-k)}$$\n",
    "\n",
    "<br>\n",
    "Os valores para o valor esperado e a variância para a distribuição Binomial serão respectivamente:\n",
    "\n",
    "- __Valor Esperado:__ $ E[X] = np $;\n",
    "\n",
    "- __Variância:__ $ V[X] = np(1-p)$."
   ]
  },
  {
   "cell_type": "code",
   "execution_count": 5,
   "id": "3a5c8129",
   "metadata": {
    "scrolled": true
   },
   "outputs": [
    {
     "data": {
      "text/plain": [
       "1    0.79943\n",
       "0    0.20057\n",
       "dtype: float64"
      ]
     },
     "execution_count": 5,
     "metadata": {},
     "output_type": "execute_result"
    }
   ],
   "source": []
  },
  {
   "cell_type": "code",
   "execution_count": 6,
   "id": "e008620d",
   "metadata": {},
   "outputs": [
    {
     "data": {
      "text/plain": [
       "3    0.51090\n",
       "2    0.38446\n",
       "1    0.09660\n",
       "0    0.00804\n",
       "dtype: float64"
      ]
     },
     "execution_count": 6,
     "metadata": {},
     "output_type": "execute_result"
    }
   ],
   "source": []
  },
  {
   "attachments": {},
   "cell_type": "markdown",
   "id": "db10e97e",
   "metadata": {},
   "source": [
    "__Exemplo:__ Em uma caixa há 8 bolas brancas e 4 pretas. Retira-se 5 bolas com reposição. Calcule a probabilidade de que:\n",
    "\n",
    "__A)__ saiam duas bolas brancas:"
   ]
  },
  {
   "cell_type": "code",
   "execution_count": 7,
   "id": "786f691d",
   "metadata": {},
   "outputs": [],
   "source": [
    "from math import factorial\n",
    "\n",
    "def binomial(n,p,k):\n",
    "    C = (factorial(n)/(factorial(n-k)*factorial(k)))\n",
    "    return C*np.power(p, k)*np.power(1-p, n-k)"
   ]
  },
  {
   "cell_type": "code",
   "execution_count": 8,
   "id": "3578f47d",
   "metadata": {},
   "outputs": [
    {
     "name": "stdout",
     "output_type": "stream",
     "text": [
      "A probabilidade será:  0.1646\n"
     ]
    }
   ],
   "source": []
  },
  {
   "attachments": {},
   "cell_type": "markdown",
   "id": "80f9cbe5",
   "metadata": {},
   "source": [
    "__B)__ saiam pelo menos 3 pretas:"
   ]
  },
  {
   "cell_type": "code",
   "execution_count": 10,
   "id": "a13122e0",
   "metadata": {},
   "outputs": [
    {
     "name": "stdout",
     "output_type": "stream",
     "text": [
      "A probabilidade será:  0.2099\n"
     ]
    }
   ],
   "source": []
  },
  {
   "attachments": {},
   "cell_type": "markdown",
   "id": "46b0cce8",
   "metadata": {},
   "source": [
    "## "
   ]
  },
  {
   "attachments": {},
   "cell_type": "markdown",
   "id": "2e5389eb",
   "metadata": {},
   "source": [
    "## Distribuição de Poisson"
   ]
  },
  {
   "attachments": {},
   "cell_type": "markdown",
   "id": "74a28c56",
   "metadata": {},
   "source": [
    "Uma variável aleatória tem distribuição de Poisson quando podemos descrever um evento em relação ao uma taxa/contagem de ocorrência, normalmente chamada de $ \\lambda $, sendo $ \\lambda > 0$. Dessa forma a equação para a distribuição de Poisson será definida como:\n",
    "\n",
    "$$ P(X = k) = \\frac{e^{-\\lambda}\\lambda^{k}}{k!} $$\n",
    "\n",
    "<br>\n",
    "Os valores para o valor esperado e a variância para a distribuição de Poisson serão respectivamente:\n",
    "\n",
    "- __Valor Esperado:__ $ E[X] = \\lambda $;\n",
    "\n",
    "- __Variância:__ $ V[X] = \\lambda$."
   ]
  },
  {
   "attachments": {},
   "cell_type": "markdown",
   "id": "16712ed5",
   "metadata": {},
   "source": [
    "__Exemplo:__ Em uma central telefônica chegam 300 ligações por hora. Sabendo que segue uma distribuição de Poisson, qual é a probabilidade de que:\n",
    "   \n",
    "__A)__ Em um minuto não ocorra ligações;"
   ]
  },
  {
   "cell_type": "code",
   "execution_count": 11,
   "id": "537b7e4a",
   "metadata": {},
   "outputs": [
    {
     "name": "stdout",
     "output_type": "stream",
     "text": [
      "P(k = 0) =  0.006737946999085467\n"
     ]
    }
   ],
   "source": []
  },
  {
   "attachments": {},
   "cell_type": "markdown",
   "id": "a1ec8942",
   "metadata": {},
   "source": [
    "__B)__ Em 2 minutos ocorram 2 chamadas;"
   ]
  },
  {
   "cell_type": "code",
   "execution_count": 12,
   "id": "231db8eb",
   "metadata": {},
   "outputs": [
    {
     "name": "stdout",
     "output_type": "stream",
     "text": [
      "P(k = 2) =  0.0022699964881242427\n"
     ]
    }
   ],
   "source": [
    "\n"
   ]
  },
  {
   "attachments": {},
   "cell_type": "markdown",
   "id": "d8b5d5c6",
   "metadata": {},
   "source": [
    "## "
   ]
  },
  {
   "attachments": {},
   "cell_type": "markdown",
   "id": "4a26860c",
   "metadata": {},
   "source": [
    "## Distribuição Exponencial"
   ]
  },
  {
   "attachments": {},
   "cell_type": "markdown",
   "id": "aa60e89b",
   "metadata": {},
   "source": [
    "Uma variável aleatória continua tem uma distribuição Exponencial quando queremos avaliar o tempo decorrido entre dois eventos consecutivos, diferente do Poisson que avalia de acordo com uma contagem de ocorrências em um espaço de tempo. A função densidade de probabilidade que descreve a distribuição exponencial pode ser descrita como:\n",
    "\n",
    "$$ f(x) = \\alpha e^{-\\alpha x}, x \\geq 0 $$\n",
    "\n",
    "No caso para $x < 0$, a probabilidade de $f(x) = 0$\n",
    "\n",
    "<br>\n",
    "Os valores para o valor esperado e a variância para a distribuição exponencial serão respectivamente:\n",
    "\n",
    "- __Valor Esperado:__ $ E[X] = \\frac{1}{\\alpha} $;\n",
    "\n",
    "- __Variância:__ $ V[X] = \\frac{1}{\\alpha^2}$.\n"
   ]
  },
  {
   "attachments": {},
   "cell_type": "markdown",
   "id": "9df7300e",
   "metadata": {},
   "source": [
    "__Exemplo:__ O intervalo de tempo, em minutos, entre emissões consecutivas de uma fonte radioativa é uma variável aleatória contínua que segue uma distribuição exponencial com parâmetro $\\alpha = 0.2$. Qual a probabilidade de que ocorra uma emissão em um intervalo inferior a 2 minutos?"
   ]
  },
  {
   "cell_type": "code",
   "execution_count": 13,
   "id": "a829ff2b",
   "metadata": {},
   "outputs": [
    {
     "name": "stdout",
     "output_type": "stream",
     "text": [
      "Valor teórico da probabilidade é:  0.3297\n"
     ]
    }
   ],
   "source": [
    "\n"
   ]
  },
  {
   "attachments": {},
   "cell_type": "markdown",
   "id": "6b5c7e0a",
   "metadata": {},
   "source": [
    "## "
   ]
  },
  {
   "attachments": {},
   "cell_type": "markdown",
   "id": "755be7e4",
   "metadata": {},
   "source": [
    "## Distribuição Uniforme"
   ]
  },
  {
   "attachments": {},
   "cell_type": "markdown",
   "id": "7505349e",
   "metadata": {},
   "source": [
    "A distribuição uniforme é uma distribuição bem simples e não possui parâmetros, a única diferença é que só vai haver probabilidade para um determinado exento $x$, se $x \\in [a, b]$. Dessa forma a equação de densidade de probabilidade para a distribuição uniforme é dado por:\n",
    "\n",
    "$$ f(x) = \\frac{1}{b - a}, a \\leq x \\leq b $$\n",
    "\n",
    "E para o caso de $x \\notin [a, b]$, a função de densidade será $f(x) = 0$\n",
    "\n",
    "<br>\n",
    "Os valores para o valor esperado e a variância para a distribuição exponencial serão respectivamente:\n",
    "\n",
    "- __Valor Esperado:__ $ E[X] = \\frac{a + b}{2} $;\n",
    "\n",
    "- __Variância:__ $ V[X] = \\frac{(b - a)^2}{12}$.\n"
   ]
  },
  {
   "cell_type": "code",
   "execution_count": 14,
   "id": "a6394f4c",
   "metadata": {},
   "outputs": [
    {
     "name": "stderr",
     "output_type": "stream",
     "text": [
      "C:\\ProgramData\\Anaconda3\\lib\\site-packages\\seaborn\\distributions.py:2619: FutureWarning: `distplot` is a deprecated function and will be removed in a future version. Please adapt your code to use either `displot` (a figure-level function with similar flexibility) or `histplot` (an axes-level function for histograms).\n",
      "  warnings.warn(msg, FutureWarning)\n"
     ]
    },
    {
     "data": {
      "image/png": "[encoded data removed]",
      "text/plain": [
       "<Figure size 432x288 with 1 Axes>"
      ]
     },
     "metadata": {
      "needs_background": "light"
     },
     "output_type": "display_data"
    }
   ],
   "source": []
  },
  {
   "cell_type": "code",
   "execution_count": 15,
   "id": "439bce5a",
   "metadata": {},
   "outputs": [
    {
     "name": "stderr",
     "output_type": "stream",
     "text": [
      "C:\\ProgramData\\Anaconda3\\lib\\site-packages\\seaborn\\distributions.py:2619: FutureWarning: `distplot` is a deprecated function and will be removed in a future version. Please adapt your code to use either `displot` (a figure-level function with similar flexibility) or `histplot` (an axes-level function for histograms).\n",
      "  warnings.warn(msg, FutureWarning)\n"
     ]
    },
    {
     "data": {
      "image/png": "[encoded data removed]",
      "text/plain": [
       "<Figure size 432x288 with 1 Axes>"
      ]
     },
     "metadata": {
      "needs_background": "light"
     },
     "output_type": "display_data"
    }
   ],
   "source": []
  },
  {
   "cell_type": "code",
   "execution_count": 16,
   "id": "770776a4",
   "metadata": {},
   "outputs": [
    {
     "name": "stderr",
     "output_type": "stream",
     "text": [
      "C:\\ProgramData\\Anaconda3\\lib\\site-packages\\seaborn\\distributions.py:2619: FutureWarning: `distplot` is a deprecated function and will be removed in a future version. Please adapt your code to use either `displot` (a figure-level function with similar flexibility) or `histplot` (an axes-level function for histograms).\n",
      "  warnings.warn(msg, FutureWarning)\n"
     ]
    },
    {
     "data": {
      "image/png": "[encoded data removed]",
      "text/plain": [
       "<Figure size 432x288 with 1 Axes>"
      ]
     },
     "metadata": {
      "needs_background": "light"
     },
     "output_type": "display_data"
    }
   ],
   "source": []
  },
  {
   "attachments": {},
   "cell_type": "markdown",
   "id": "7fc17e95",
   "metadata": {},
   "source": [
    "## "
   ]
  },
  {
   "attachments": {},
   "cell_type": "markdown",
   "id": "84c19815",
   "metadata": {},
   "source": [
    "## Exercícios"
   ]
  },
  {
   "attachments": {},
   "cell_type": "markdown",
   "id": "bed5d17d",
   "metadata": {},
   "source": [
    "__1)__ Em uma caixa há 7 bolas brancas, 4 pretas e 5 vermelhas. Retira-se 6 bolas com reposição. Calcule a probabilidade de que:\n",
    "\n",
    "__A)__ saiam 4 bolas vermelhas:\n",
    "\n",
    "__B)__ pelo menos 3 bolas brancas:\n",
    "\n",
    "__C)__ 1 ou 2 bolas pretas."
   ]
  },
  {
   "attachments": {},
   "cell_type": "markdown",
   "id": "840489b6",
   "metadata": {},
   "source": [
    "## "
   ]
  },
  {
   "attachments": {},
   "cell_type": "markdown",
   "id": "e1753989",
   "metadata": {},
   "source": [
    "__2)__ Em um livro de 800 páginas há 800 erros de impressão. Qual a probabilidade de que uma página contenha pelo menos 3 erros?"
   ]
  },
  {
   "attachments": {},
   "cell_type": "markdown",
   "id": "4ed57c97",
   "metadata": {},
   "source": [
    "## "
   ]
  },
  {
   "attachments": {},
   "cell_type": "markdown",
   "id": "e1f55925",
   "metadata": {},
   "source": [
    "__3)__ Numa criação de coelhos, 45% são machos. Qual a probabilidade de nascerem pelo menos 5 coelhos machos num dia em que nasceram 15 coelhos?"
   ]
  },
  {
   "attachments": {},
   "cell_type": "markdown",
   "id": "acd19444",
   "metadata": {},
   "source": [
    "## "
   ]
  },
  {
   "attachments": {},
   "cell_type": "markdown",
   "id": "eb5be6f8",
   "metadata": {},
   "source": [
    "__4)__ Numa estrada há 2 acidentes para cada 100 km. Qual a probabilidade de que em:\n",
    "\n",
    "__A)__ 250 km pelo menos 3 acidentes?"
   ]
  },
  {
   "attachments": {},
   "cell_type": "markdown",
   "id": "7b32130a",
   "metadata": {},
   "source": [
    "__B)__ 300 km ocorram 5 acidentes?"
   ]
  }
 ],
 "metadata": {
  "kernelspec": {
   "display_name": "Python 3 (ipykernel)",
   "language": "python",
   "name": "python3"
  },
  "language_info": {
   "codemirror_mode": {
    "name": "ipython",
    "version": 3
   },
   "file_extension": ".py",
   "mimetype": "text/x-python",
   "name": "python",
   "nbconvert_exporter": "python",
   "pygments_lexer": "ipython3",
   "version": "3.10.9"
  },
  "varInspector": {
   "cols": {
    "lenName": 16,
    "lenType": 16,
    "lenVar": 40
   },
   "kernels_config": {
    "python": {
     "delete_cmd_postfix": "",
     "delete_cmd_prefix": "del ",
     "library": "var_list.py",
     "varRefreshCmd": "print(var_dic_list())"
    },
    "r": {
     "delete_cmd_postfix": ") ",
     "delete_cmd_prefix": "rm(",
     "library": "var_list.r",
     "varRefreshCmd": "cat(var_dic_list()) "
    }
   },
   "types_to_exclude": [
    "module",
    "function",
    "builtin_function_or_method",
    "instance",
    "_Feature"
   ],
   "window_display": false
  }
 },
 "nbformat": 4,
 "nbformat_minor": 5
}
