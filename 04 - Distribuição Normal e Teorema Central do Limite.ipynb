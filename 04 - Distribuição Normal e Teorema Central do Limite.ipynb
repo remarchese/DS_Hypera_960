{
 "cells": [
  {
   "cell_type": "markdown",
   "id": "ae3011b8",
   "metadata": {},
   "source": [
    "# 04 - Distribuição Normal e Teorema Central do Limite\n",
    "\n",
    "Nessa aula, iremos tratar dos seguintes conteúdos:\n",
    "- Distribuição Normal\n",
    "- Teorema Central do Limite"
   ]
  },
  {
   "cell_type": "markdown",
   "id": "a03399f7",
   "metadata": {},
   "source": [
    "<img src = \"https://miro.medium.com/max/1200/1*IdGgdrY_n_9_YfkaCh-dag.png\" width=800>"
   ]
  },
  {
   "cell_type": "markdown",
   "id": "9c40097b",
   "metadata": {},
   "source": [
    "## "
   ]
  },
  {
   "cell_type": "markdown",
   "id": "8d3345d1",
   "metadata": {},
   "source": [
    "## Distribuição Normal"
   ]
  },
  {
   "cell_type": "markdown",
   "id": "b2e195c1",
   "metadata": {},
   "source": [
    "A distribuição normal é uma das distribuições mais conhecidas da estatística/probabilidade! Ela é representada por uma **curva simétrica em torno do seu ponto médio**, apresentando assim seu famoso formato de **sino** (bell shape).  \n",
    "\n",
    "A curva de distribuição normal representa o comportamento de **diversos processos e fenômenos comuns**, como por exemplo: altura ou peso de uma população, a pressão sanguínea de um grupo de pessoas, o tempo que um grupo de estudantes gasta para realizar uma prova, etc.\n",
    "\n",
    "A distribuição normal serve também como base para a inferência estatística clássica, sendo a premissa em diversos modelos e métodos.\n",
    "\n",
    "<br><br>\n",
    "\n",
    "### Definição Matemática\n",
    "\n",
    "A Variável aleatória contínua $X$ que tome todos os valores na reta real $-\\infty < X < \\infty$ segue uma distribuição normal (ou Gaussiana) se sua função de densidade de probabilidade é dada por:\n",
    "\n",
    "$$ f(x) = \\frac{1}{\\sigma\\sqrt{2\\pi}}e^{\\frac{-(x - \\mu)^2}{2\\sigma^2}} $$\n",
    "\n",
    "Onde respectivamente temos como __valor esperado__ e __variância__ da distribuição normal:\n",
    "\n",
    "- __Valor esperado:__ $E[X] = \\mu$\n",
    "\n",
    "- __Variância:__ $V[X] = \\sigma^2$\n",
    "\n",
    "\n",
    "<br>\n",
    "\n",
    "Usualmente aplicamos a notação X ~ N($\\mu$,$\\sigma^2$) para representar uma variável aleatória **com distribuição normal** de valor esperado/média $\\mu$ e variância $\\sigma^2$.\n",
    "\n",
    "<img src=\"https://upload.wikimedia.org/wikipedia/commons/thumb/7/74/Normal_Distribution_PDF.svg/1280px-Normal_Distribution_PDF.svg.png\" width=500>\n",
    "\n",
    "\n",
    "Em uma distribuição normal a média, mediana e moda dos dados possuem o mesmo valor. \n",
    "\n",
    "<img src=\"https://dietassessmentprimer.cancer.gov/images/learn/distribution1.jpg\">\n"
   ]
  },
  {
   "cell_type": "markdown",
   "id": "8ec34fc6",
   "metadata": {},
   "source": [
    "Vamos ver algumas formas de gerarmos valores de acordo com uma distribuição Normal:"
   ]
  },
  {
   "cell_type": "code",
   "execution_count": 2,
   "id": "49561226",
   "metadata": {
    "ExecuteTime": {
     "end_time": "2023-03-01T18:59:33.716721Z",
     "start_time": "2023-03-01T18:59:25.545608Z"
    }
   },
   "outputs": [],
   "source": [
    "import numpy as np\n",
    "import pandas as pd\n",
    "import matplotlib.pyplot as plt\n",
    "import seaborn as sns\n",
    "import math as math"
   ]
  },
  {
   "cell_type": "code",
   "execution_count": null,
   "id": "290023ed",
   "metadata": {
    "ExecuteTime": {
     "end_time": "2023-03-01T18:59:34.541465Z",
     "start_time": "2023-03-01T18:59:33.727615Z"
    }
   },
   "outputs": [],
   "source": []
  },
  {
   "cell_type": "code",
   "execution_count": null,
   "id": "db4e2e6a",
   "metadata": {
    "ExecuteTime": {
     "end_time": "2023-03-01T19:01:23.889121Z",
     "start_time": "2023-03-01T19:01:23.731205Z"
    }
   },
   "outputs": [],
   "source": []
  },
  {
   "cell_type": "markdown",
   "id": "5ef56aee",
   "metadata": {},
   "source": [
    "## "
   ]
  },
  {
   "cell_type": "markdown",
   "id": "feaf2968",
   "metadata": {},
   "source": [
    "## Normalização ou Z-Score\n",
    "<br>\n",
    "\n",
    "Imagine ter que calcular a probabilidade de uma distribuição normal de um determinado evento, utilizando a função de densidade de probabilidade. Seria bastante trabalho e nem um pouco usual! \n",
    "\n",
    "Para isso então que existe uma relação conhecida como normalização ou __Z-Score__, onde este parâmetro nada mais é que __o número de desvios padrões que a observação está com relação à média__:\n",
    "\n",
    "$$ z = \\frac{x - \\mu}{\\sigma} $$\n",
    "\n",
    "$$ z \\sigma = x - \\mu $$\n",
    "\n",
    "\n",
    "<img src = \"https://miro.medium.com/max/1200/1*IdGgdrY_n_9_YfkaCh-dag.png\" width=800>\n",
    "<br>\n",
    "\n",
    "Como vimos acima, em uma distribuição normal, 99.73% das observações são esperadas de estar entre 3 desvios-padrão da média. Assim, obervações para além desta faixa são muito improváveis de ocorrer (0.27% de chance), de forma que podem ser consideradas outliers. Assim, é comum considerar outliers os pontos tais que $|z| > 3$ (embora seja comum também variar este z-score limite, para 2.5 o, 3.5, etc.)\n",
    "\n",
    "<br>\n",
    "\n",
    "**OBS.: naturalmente, este método é altamente dependente da hipótese de que seus dados são normalmente distribuídos! Por isso, funciona apenas aproximadamente para outros casos. Mas é uma boa aproximação, em geral.**\n",
    "\n",
    "\n",
    "\n",
    "onde o objetivo é convertermos os dados para uma distribuição normal na forma X ~ N($\\mu$, $\\sigma^2$) "
   ]
  },
  {
   "cell_type": "markdown",
   "id": "af1bebd1",
   "metadata": {},
   "source": [
    "**Exemplo**: \n",
    "\n",
    "Se $X \\sim  \\mathcal{N}(\\mu=165,\\,\\sigma^{2}=9)$, calcule $P(X<162)$."
   ]
  },
  {
   "cell_type": "code",
   "execution_count": null,
   "id": "7d5b557d",
   "metadata": {
    "ExecuteTime": {
     "end_time": "2023-03-01T19:39:37.632796Z",
     "start_time": "2023-03-01T19:39:37.618868Z"
    }
   },
   "outputs": [],
   "source": []
  },
  {
   "cell_type": "markdown",
   "id": "2cb1b68b",
   "metadata": {},
   "source": [
    "**Exemplo**: Se $X \\sim  \\mathcal{N}(\\mu=10,\\,\\sigma^{2}=4)$, calcule $P(X>13)$.\n",
    "\n",
    "Obs.: Lembrando que para calcular essa probabilidade temos que fazer da seguinte forma:\n",
    "\n",
    "$$ P(X > 13) = 1 - P( X \\leq 13) $$"
   ]
  },
  {
   "cell_type": "code",
   "execution_count": null,
   "id": "72b80649",
   "metadata": {
    "ExecuteTime": {
     "end_time": "2023-03-01T19:40:57.789436Z",
     "start_time": "2023-03-01T19:40:57.768531Z"
    }
   },
   "outputs": [],
   "source": []
  },
  {
   "cell_type": "markdown",
   "id": "2384dbec",
   "metadata": {},
   "source": [
    "**Exemplo:** O peso médio de 500 estudantes do sexo masculino de uma determinada universidade é 75,5 Kg e o desvio padrão é 7,5 Kg. Admitindo que os pesos são normalmente distribuídos, determine a percentagem de estudantes que pesam:"
   ]
  },
  {
   "cell_type": "markdown",
   "id": "002108a9",
   "metadata": {},
   "source": [
    "a) entre 60 e 77,5 Kg.\n",
    "\n",
    "$$\n",
    "P(60 \\leq X \\leq 77,5) = P\\left(\\frac{60-\\mu}{\\sigma} \\leq \\frac{X-\\mu}{\\sigma} \\leq \\frac{77,5-\\mu}{\\sigma}\\right)=P\\left(\\frac{60-\\mu}{\\sigma} \\leq Z \\leq \\frac{77,5-\\mu}{\\sigma}\\right) = \n",
    "$$\n",
    "$$\n",
    "= P\\left(Z \\leq \\frac{77,5-\\mu}{\\sigma}\\right)-P\\left( Z \\leq \\frac{60-\\mu}{\\sigma}\\right)\n",
    "$$ \n"
   ]
  },
  {
   "cell_type": "code",
   "execution_count": null,
   "id": "7dbed2ab",
   "metadata": {
    "ExecuteTime": {
     "end_time": "2023-05-10T21:54:16.028329Z",
     "start_time": "2023-05-10T21:54:12.218581Z"
    }
   },
   "outputs": [],
   "source": []
  },
  {
   "cell_type": "markdown",
   "id": "3bd35bff",
   "metadata": {},
   "source": [
    "Podemos também resolver este item simulando os resultados:"
   ]
  },
  {
   "cell_type": "code",
   "execution_count": null,
   "id": "56d23094",
   "metadata": {
    "ExecuteTime": {
     "end_time": "2023-05-10T21:54:20.786063Z",
     "start_time": "2023-05-10T21:54:20.401194Z"
    }
   },
   "outputs": [],
   "source": []
  },
  {
   "cell_type": "markdown",
   "id": "45d62dc9",
   "metadata": {},
   "source": [
    "b) mais do que 92,5 Kg. \n",
    "$$\n",
    "P(X \\geq 92,5) = P\\left( \\frac{X-\\mu}{\\sigma}\\geq \\frac{92,5-\\mu}{\\sigma}\\right) = P\\left( Z \\geq \\frac{92,5-\\mu}{\\sigma}\\right) = 1 - P\\left( Z < \\frac{92,5-\\mu}{\\sigma}\\right)\n",
    "$$"
   ]
  },
  {
   "cell_type": "code",
   "execution_count": null,
   "id": "abc340e5",
   "metadata": {},
   "outputs": [],
   "source": []
  },
  {
   "cell_type": "markdown",
   "id": "251e2af0",
   "metadata": {},
   "source": [
    "Simulando:"
   ]
  },
  {
   "cell_type": "code",
   "execution_count": null,
   "id": "2fe6e197",
   "metadata": {
    "ExecuteTime": {
     "end_time": "2023-03-01T19:43:24.735199Z",
     "start_time": "2023-03-01T19:43:24.719617Z"
    }
   },
   "outputs": [],
   "source": []
  },
  {
   "cell_type": "markdown",
   "id": "777e6bc7",
   "metadata": {},
   "source": [
    "Uma forma mais tradicional também para calcular a probabilidade a partir de uma distribuição normal seria justamente utilizar de valores tabelados para o __Z-Score__:"
   ]
  },
  {
   "cell_type": "markdown",
   "id": "3c9e5ed7",
   "metadata": {},
   "source": [
    "<img src = \"https://media.cheggcdn.com/media/70e/70ea2b20-f693-43d1-aa34-33289a97d606/phpqH8k6j\" width = 800>"
   ]
  },
  {
   "cell_type": "markdown",
   "id": "6700bb86",
   "metadata": {},
   "source": [
    "## "
   ]
  },
  {
   "cell_type": "markdown",
   "id": "0c886806",
   "metadata": {},
   "source": [
    "## Teorema Central do Limite"
   ]
  },
  {
   "cell_type": "markdown",
   "id": "7ad0bfd6",
   "metadata": {},
   "source": [
    "Esse é um dos teoremas mais poderosos e fundamentais da estatística, porque ele é usado **como base para muitos outros resultados**. \n",
    "\n",
    "A ideia é que muitos dos resultados de inferência estatística são válidos assumindo como hipótese que os dados sob análise (**mais precisamente, os estimadores pontuais**) seguem uma distribuição normal. \n",
    "\n",
    "No entanto, há muitos casos de interesse em que a **distribuição populacional não é normal** -- e, na verdade, não temos como saber com segurança qual é a distribuição populacional, dado que temos apenas acesso às amostras!\n",
    "\n",
    "Assim, a priori, muitos dos resultados e métodos da inferência estatística seriam invalidados, dado que não podemos assegurar qual é a distribuição populacional dos dados que estamos analisando.\n",
    "\n",
    "E é neste contexto que o TLC mostra seu poder e importância, pois ele mostra que **estimadores pontuais de parâmetros populacionais serão normalmente distribuídos, INDEPENDENTE DA DISTRIBUIÇÃO POPULACIONAL!**\n",
    "\n",
    "Vamos enunciá-lo, como:\n"
   ]
  },
  {
   "cell_type": "markdown",
   "id": "eb8fa0be",
   "metadata": {},
   "source": [
    "Seja uma amostra aleatória $(X_1,X_2,\\ldots,X_n)$ retiradas de uma população com média $\\mu$ e desvio padrão $\\sigma$. A distribuição amostral de $\\bar{X}$ aproxima-se, para n grande ($n > 30$), de uma distribuição normal com média $E[\\bar{X}]=\\mu$ e variância $\\sigma^2/n$.<br>."
   ]
  },
  {
   "cell_type": "code",
   "execution_count": null,
   "id": "6edc7081",
   "metadata": {
    "ExecuteTime": {
     "end_time": "2023-03-01T19:52:33.111333Z",
     "start_time": "2023-03-01T19:52:32.922716Z"
    }
   },
   "outputs": [],
   "source": []
  },
  {
   "cell_type": "code",
   "execution_count": null,
   "id": "229446a8",
   "metadata": {
    "ExecuteTime": {
     "end_time": "2023-05-10T21:54:40.616593Z",
     "start_time": "2023-05-10T21:54:40.420120Z"
    }
   },
   "outputs": [],
   "source": []
  },
  {
   "cell_type": "code",
   "execution_count": null,
   "id": "f6026563",
   "metadata": {
    "ExecuteTime": {
     "end_time": "2023-03-01T19:53:20.068045Z",
     "start_time": "2023-03-01T19:53:19.786093Z"
    },
    "scrolled": false
   },
   "outputs": [],
   "source": []
  },
  {
   "cell_type": "markdown",
   "id": "d9282deb",
   "metadata": {},
   "source": [
    "**Exemplo:** Seja a variável aleatória com distribuição de probabilidade: P(X=3)=0,4; P(X=6)=0,3; P(X=8)=0,3. Uma amostra com 40 observações é sorteada. Qual é a probabilidade de que a média amostral ser maior do que 5?"
   ]
  },
  {
   "cell_type": "code",
   "execution_count": null,
   "id": "1f09f221",
   "metadata": {
    "ExecuteTime": {
     "end_time": "2023-03-01T19:58:01.253926Z",
     "start_time": "2023-03-01T19:58:01.238344Z"
    }
   },
   "outputs": [],
   "source": []
  },
  {
   "cell_type": "markdown",
   "id": "b1fc8590",
   "metadata": {},
   "source": [
    "Valor teórico a partir do Z-Score:"
   ]
  },
  {
   "cell_type": "code",
   "execution_count": null,
   "id": "c9e32172",
   "metadata": {
    "ExecuteTime": {
     "end_time": "2023-03-01T19:58:02.857037Z",
     "start_time": "2023-03-01T19:58:02.841696Z"
    }
   },
   "outputs": [],
   "source": []
  },
  {
   "cell_type": "markdown",
   "id": "28dec461",
   "metadata": {},
   "source": [
    "Vamos sortear várias amostras de tamanho n = 40 e verificar qual a probabilidade da média dessa amostra ser maior do que 5."
   ]
  },
  {
   "cell_type": "code",
   "execution_count": 29,
   "id": "df00e3eb",
   "metadata": {
    "ExecuteTime": {
     "end_time": "2023-03-01T19:59:20.117674Z",
     "start_time": "2023-03-01T19:59:19.852350Z"
    }
   },
   "outputs": [
    {
     "data": {
      "image/png": "[encoded data removed]",
      "text/plain": [
       "<Figure size 800x600 with 1 Axes>"
      ]
     },
     "metadata": {},
     "output_type": "display_data"
    },
    {
     "name": "stdout",
     "output_type": "stream",
     "text": [
      "Media das amostras:  5.378175000000001\n",
      "Media da população:  5.4\n"
     ]
    }
   ],
   "source": []
  },
  {
   "cell_type": "markdown",
   "id": "079ea058",
   "metadata": {},
   "source": [
    "A probabilidade de ser maior do que 5:"
   ]
  },
  {
   "cell_type": "code",
   "execution_count": 30,
   "id": "f6b6a0b0",
   "metadata": {
    "ExecuteTime": {
     "end_time": "2023-03-01T19:59:21.345228Z",
     "start_time": "2023-03-01T19:59:21.329652Z"
    }
   },
   "outputs": [
    {
     "name": "stdout",
     "output_type": "stream",
     "text": [
      "Probabilidade > 5:  0.859\n",
      "Valor teórico    :  0.885046886863795\n"
     ]
    }
   ],
   "source": []
  },
  {
   "cell_type": "code",
   "execution_count": 31,
   "id": "1581a4e8",
   "metadata": {
    "ExecuteTime": {
     "end_time": "2023-03-01T19:59:22.915547Z",
     "start_time": "2023-03-01T19:59:22.900237Z"
    }
   },
   "outputs": [
    {
     "data": {
      "text/plain": [
       "1.030322336279156"
      ]
     },
     "execution_count": 31,
     "metadata": {},
     "output_type": "execute_result"
    }
   ],
   "source": []
  },
  {
   "cell_type": "markdown",
   "id": "5e64f528",
   "metadata": {},
   "source": [
    "## "
   ]
  },
  {
   "cell_type": "markdown",
   "id": "e21f417c",
   "metadata": {},
   "source": [
    "## Exercícios"
   ]
  },
  {
   "cell_type": "markdown",
   "id": "8a9f5a35",
   "metadata": {},
   "source": [
    "**1)** Uma máquina de bebidas está regulada de modo a servir uma média de 150ml por copo. Se a quantidade servida por copo seguir uma distribuição normal com desvio padrão de 20 ml, determine a percentagem de copos que conterão mais de 175ml de bebida."
   ]
  },
  {
   "cell_type": "markdown",
   "id": "79f701bd",
   "metadata": {},
   "source": [
    "__2)__ O tempo para desenvolver um servidor web em uma empresa é descrito por uma variável aleatória X, medida em dias, com distribuição normal de média $\\mu$ = 45 e variância $\\sigma^2$ = 400. Calcule a probabilidade de que um novo servidor web será finalizado entre 30 e 40 dias."
   ]
  },
  {
   "cell_type": "markdown",
   "id": "8654430b",
   "metadata": {},
   "source": [
    "__3)__ Uma população é descrita pela seguinte distribuição de probabilidades:\n",
    "    \n",
    "- 𝑃(𝑋 = 2) = 0,2;\n",
    "- 𝑃(𝑋 = 4) = 0,4;\n",
    "- 𝑃(𝑋 = 6) = 0,4\n",
    "\n",
    "Uma amostra com 50 observações é sorteada. Calcule a probabilidade de que a média dessa amostra seja maior do que 4.5"
   ]
  },
  {
   "cell_type": "markdown",
   "id": "acfcc8f1",
   "metadata": {},
   "source": [
    "__4)__ Em uma empresa de vendas planos de internet, a duração de conversas telefônicas (em minutos), segue o modelo de uma distribuição exponencial com parâmetro $\\lambda = \\frac{1}{5}$. Observando-se uma amostra aleatória de 50 dessas chamadas, qual será a probabilidade de que tais amostras em média não ultrapassem 6 minutos?"
   ]
  }
 ],
 "metadata": {
  "kernelspec": {
   "display_name": "Python 3 (ipykernel)",
   "language": "python",
   "name": "python3"
  },
  "language_info": {
   "codemirror_mode": {
    "name": "ipython",
    "version": 3
   },
   "file_extension": ".py",
   "mimetype": "text/x-python",
   "name": "python",
   "nbconvert_exporter": "python",
   "pygments_lexer": "ipython3",
   "version": "3.10.9"
  },
  "varInspector": {
   "cols": {
    "lenName": 16,
    "lenType": 16,
    "lenVar": 40
   },
   "kernels_config": {
    "python": {
     "delete_cmd_postfix": "",
     "delete_cmd_prefix": "del ",
     "library": "var_list.py",
     "varRefreshCmd": "print(var_dic_list())"
    },
    "r": {
     "delete_cmd_postfix": ") ",
     "delete_cmd_prefix": "rm(",
     "library": "var_list.r",
     "varRefreshCmd": "cat(var_dic_list()) "
    }
   },
   "types_to_exclude": [
    "module",
    "function",
    "builtin_function_or_method",
    "instance",
    "_Feature"
   ],
   "window_display": false
  }
 },
 "nbformat": 4,
 "nbformat_minor": 5
}
